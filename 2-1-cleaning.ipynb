{
 "cells": [
  {
   "cell_type": "code",
   "execution_count": 1,
   "metadata": {},
   "outputs": [],
   "source": [
    "import pandas as pd\n",
    "import re\n",
    "import seaborn as sns\n",
    "import matplotlib.pyplot as plt\n",
    "import numpy as np"
   ]
  },
  {
   "cell_type": "code",
   "execution_count": 2,
   "metadata": {},
   "outputs": [],
   "source": [
    "df = pd.read_csv('immobiliers.csv')"
   ]
  },
  {
   "cell_type": "code",
   "execution_count": 3,
   "metadata": {},
   "outputs": [
    {
     "data": {
      "text/html": [
       "<div>\n",
       "<style scoped>\n",
       "    .dataframe tbody tr th:only-of-type {\n",
       "        vertical-align: middle;\n",
       "    }\n",
       "\n",
       "    .dataframe tbody tr th {\n",
       "        vertical-align: top;\n",
       "    }\n",
       "\n",
       "    .dataframe thead th {\n",
       "        text-align: right;\n",
       "    }\n",
       "</style>\n",
       "<table border=\"1\" class=\"dataframe\">\n",
       "  <thead>\n",
       "    <tr style=\"text-align: right;\">\n",
       "      <th></th>\n",
       "      <th>Type de bien</th>\n",
       "      <th>Localisation</th>\n",
       "      <th>Annonce</th>\n",
       "      <th>Configuration des pièces</th>\n",
       "      <th>Type de transaction</th>\n",
       "      <th>Salles de bains</th>\n",
       "      <th>Superficie</th>\n",
       "      <th>Prix</th>\n",
       "      <th>Chambres</th>\n",
       "    </tr>\n",
       "  </thead>\n",
       "  <tbody>\n",
       "    <tr>\n",
       "      <th>0</th>\n",
       "      <td>NaN</td>\n",
       "      <td>Ariana</td>\n",
       "      <td>A vendre un appartement de 150m² en S+3 à Ennasr</td>\n",
       "      <td>S+3</td>\n",
       "      <td>À Vendre</td>\n",
       "      <td>3</td>\n",
       "      <td>150</td>\n",
       "      <td>400000.0</td>\n",
       "      <td>3</td>\n",
       "    </tr>\n",
       "    <tr>\n",
       "      <th>1</th>\n",
       "      <td>NaN</td>\n",
       "      <td>Nabeul</td>\n",
       "      <td>Studio encours de construction à cité Mirdès 2...</td>\n",
       "      <td>NaN</td>\n",
       "      <td>À Vendre</td>\n",
       "      <td>1</td>\n",
       "      <td>60</td>\n",
       "      <td>125000.0</td>\n",
       "      <td>1</td>\n",
       "    </tr>\n",
       "    <tr>\n",
       "      <th>2</th>\n",
       "      <td>NaN</td>\n",
       "      <td>Ariana</td>\n",
       "      <td>A louer un appartement en S+1 à Ennasr</td>\n",
       "      <td>S+1</td>\n",
       "      <td>À Louer</td>\n",
       "      <td>1</td>\n",
       "      <td>65</td>\n",
       "      <td>800.0</td>\n",
       "      <td>1</td>\n",
       "    </tr>\n",
       "    <tr>\n",
       "      <th>3</th>\n",
       "      <td>NaN</td>\n",
       "      <td>Ariana</td>\n",
       "      <td>A vendre une villa de 340m² sur un terrain de ...</td>\n",
       "      <td>NaN</td>\n",
       "      <td>À Vendre</td>\n",
       "      <td>3</td>\n",
       "      <td>517</td>\n",
       "      <td>1150000.0</td>\n",
       "      <td>5</td>\n",
       "    </tr>\n",
       "    <tr>\n",
       "      <th>4</th>\n",
       "      <td>NaN</td>\n",
       "      <td>Ariana</td>\n",
       "      <td>avendre fond de commerce</td>\n",
       "      <td>NaN</td>\n",
       "      <td>À Vendre</td>\n",
       "      <td>2</td>\n",
       "      <td>54</td>\n",
       "      <td>50516006.0</td>\n",
       "      <td>1</td>\n",
       "    </tr>\n",
       "  </tbody>\n",
       "</table>\n",
       "</div>"
      ],
      "text/plain": [
       "  Type de bien Localisation  \\\n",
       "0          NaN       Ariana   \n",
       "1          NaN       Nabeul   \n",
       "2          NaN       Ariana   \n",
       "3          NaN       Ariana   \n",
       "4          NaN       Ariana   \n",
       "\n",
       "                                             Annonce Configuration des pièces  \\\n",
       "0   A vendre un appartement de 150m² en S+3 à Ennasr                      S+3   \n",
       "1  Studio encours de construction à cité Mirdès 2...                      NaN   \n",
       "2             A louer un appartement en S+1 à Ennasr                      S+1   \n",
       "3  A vendre une villa de 340m² sur un terrain de ...                      NaN   \n",
       "4                           avendre fond de commerce                      NaN   \n",
       "\n",
       "  Type de transaction Salles de bains Superficie        Prix Chambres  \n",
       "0            À Vendre               3        150    400000.0        3  \n",
       "1            À Vendre               1         60    125000.0        1  \n",
       "2             À Louer               1         65       800.0        1  \n",
       "3            À Vendre               3        517   1150000.0        5  \n",
       "4            À Vendre               2         54  50516006.0        1  "
      ]
     },
     "execution_count": 3,
     "metadata": {},
     "output_type": "execute_result"
    }
   ],
   "source": [
    "df.head()"
   ]
  },
  {
   "cell_type": "code",
   "execution_count": 4,
   "metadata": {},
   "outputs": [
    {
     "name": "stdout",
     "output_type": "stream",
     "text": [
      "<class 'pandas.core.frame.DataFrame'>\n",
      "RangeIndex: 1640 entries, 0 to 1639\n",
      "Data columns (total 8 columns):\n",
      " #   Column                    Non-Null Count  Dtype  \n",
      "---  ------                    --------------  -----  \n",
      " 0   Type de bien              176 non-null    object \n",
      " 1   Localisation              1640 non-null   object \n",
      " 2   Annonce                   1640 non-null   object \n",
      " 3   Configuration des pièces  578 non-null    object \n",
      " 4   Salles de bains           1640 non-null   object \n",
      " 5   Superficie                1640 non-null   object \n",
      " 6   Prix                      1390 non-null   float64\n",
      " 7   Chambres                  1640 non-null   object \n",
      "dtypes: float64(1), object(7)\n",
      "memory usage: 102.6+ KB\n",
      "None\n"
     ]
    }
   ],
   "source": [
    "# on ne s'interesse que sur les biens à vendre\n",
    "# execute right after reading the csv, marra wahda barka\n",
    "df = df[df['Type de transaction'] == 'À Vendre']\n",
    "df = df.drop(columns=['Type de transaction'])\n",
    "df.reset_index(drop=True, inplace=True)\n",
    "print(df.info())"
   ]
  },
  {
   "cell_type": "code",
   "execution_count": 5,
   "metadata": {},
   "outputs": [
    {
     "data": {
      "text/html": [
       "<div>\n",
       "<style scoped>\n",
       "    .dataframe tbody tr th:only-of-type {\n",
       "        vertical-align: middle;\n",
       "    }\n",
       "\n",
       "    .dataframe tbody tr th {\n",
       "        vertical-align: top;\n",
       "    }\n",
       "\n",
       "    .dataframe thead th {\n",
       "        text-align: right;\n",
       "    }\n",
       "</style>\n",
       "<table border=\"1\" class=\"dataframe\">\n",
       "  <thead>\n",
       "    <tr style=\"text-align: right;\">\n",
       "      <th></th>\n",
       "      <th>Type de bien</th>\n",
       "      <th>Localisation</th>\n",
       "      <th>Annonce</th>\n",
       "      <th>Salles de bains</th>\n",
       "      <th>Superficie</th>\n",
       "      <th>Prix</th>\n",
       "      <th>Chambres</th>\n",
       "    </tr>\n",
       "  </thead>\n",
       "  <tbody>\n",
       "    <tr>\n",
       "      <th>1635</th>\n",
       "      <td>Appartement</td>\n",
       "      <td>Nabeul</td>\n",
       "      <td>Appartement (A2-3) en S+2 de 137.4 m² au deuxi...</td>\n",
       "      <td>2</td>\n",
       "      <td>137.4</td>\n",
       "      <td>345000.0</td>\n",
       "      <td>2</td>\n",
       "    </tr>\n",
       "    <tr>\n",
       "      <th>1636</th>\n",
       "      <td>Bureau</td>\n",
       "      <td>Ben Arous</td>\n",
       "      <td>A vendre un bureau (B3-1) de 72,58m² au 3éme é...</td>\n",
       "      <td>1</td>\n",
       "      <td>72.58</td>\n",
       "      <td>NaN</td>\n",
       "      <td>False</td>\n",
       "    </tr>\n",
       "    <tr>\n",
       "      <th>1637</th>\n",
       "      <td>Bureau</td>\n",
       "      <td>Sousse</td>\n",
       "      <td>un bureau B27 de 89,07m² au 2éme étage à Sahlo...</td>\n",
       "      <td>2</td>\n",
       "      <td>89.07</td>\n",
       "      <td>1600.0</td>\n",
       "      <td>2</td>\n",
       "    </tr>\n",
       "    <tr>\n",
       "      <th>1638</th>\n",
       "      <td>Appartement</td>\n",
       "      <td>Sousse</td>\n",
       "      <td>A vendre un appartement S+2  de 96,92  m²  au ...</td>\n",
       "      <td>2</td>\n",
       "      <td>96.92</td>\n",
       "      <td>310000.0</td>\n",
       "      <td>2</td>\n",
       "    </tr>\n",
       "    <tr>\n",
       "      <th>1639</th>\n",
       "      <td>Appartement</td>\n",
       "      <td>Sousse</td>\n",
       "      <td>A vendre un appartement S+1  de 70,03  m²  au ...</td>\n",
       "      <td>1</td>\n",
       "      <td>70.03</td>\n",
       "      <td>250000.0</td>\n",
       "      <td>1</td>\n",
       "    </tr>\n",
       "  </tbody>\n",
       "</table>\n",
       "</div>"
      ],
      "text/plain": [
       "     Type de bien Localisation  \\\n",
       "1635  Appartement       Nabeul   \n",
       "1636       Bureau    Ben Arous   \n",
       "1637       Bureau       Sousse   \n",
       "1638  Appartement       Sousse   \n",
       "1639  Appartement       Sousse   \n",
       "\n",
       "                                                Annonce Salles de bains  \\\n",
       "1635  Appartement (A2-3) en S+2 de 137.4 m² au deuxi...               2   \n",
       "1636  A vendre un bureau (B3-1) de 72,58m² au 3éme é...               1   \n",
       "1637  un bureau B27 de 89,07m² au 2éme étage à Sahlo...               2   \n",
       "1638  A vendre un appartement S+2  de 96,92  m²  au ...               2   \n",
       "1639  A vendre un appartement S+1  de 70,03  m²  au ...               1   \n",
       "\n",
       "     Superficie      Prix Chambres  \n",
       "1635      137.4  345000.0        2  \n",
       "1636      72.58       NaN    False  \n",
       "1637      89.07    1600.0        2  \n",
       "1638      96.92  310000.0        2  \n",
       "1639      70.03  250000.0        1  "
      ]
     },
     "execution_count": 5,
     "metadata": {},
     "output_type": "execute_result"
    }
   ],
   "source": [
    "condition1 = df[(df['Configuration des pièces'].notna()) & (df['Chambres']=='False')]\n",
    "# print(condition1.shape)\n",
    "# 11 row où nb chambres n'est affiché que dans l'annonce\n",
    "\n",
    "# Extraire le nombre de pièces de 'Configuration des pièces' et l'attribuer à 'Chambres'\n",
    "for idx, row in condition1.iterrows():\n",
    "    config_pieces = row['Configuration des pièces']\n",
    "    match = re.search(r'S\\+(\\d+)', config_pieces)\n",
    "    if match:\n",
    "        df.at[idx, 'Chambres'] = int(match.group(1))\n",
    "\n",
    "df = df.drop(columns=['Configuration des pièces']) # on n'en a plus besoin\n",
    "df.tail()"
   ]
  },
  {
   "cell_type": "code",
   "execution_count": 6,
   "metadata": {},
   "outputs": [
    {
     "name": "stderr",
     "output_type": "stream",
     "text": [
      "C:\\Users\\My_Computing\\AppData\\Local\\Temp\\ipykernel_16604\\2422662689.py:6: FutureWarning: A value is trying to be set on a copy of a DataFrame or Series through chained assignment using an inplace method.\n",
      "The behavior will change in pandas 3.0. This inplace method will never work because the intermediate object on which we are setting values always behaves as a copy.\n",
      "\n",
      "For example, when doing 'df[col].method(value, inplace=True)', try using 'df.method({col: value}, inplace=True)' or df[col] = df[col].method(value) instead, to perform the operation inplace on the original object.\n",
      "\n",
      "\n",
      "  df['Salles de bains'].replace('False', 1, inplace=True)\n"
     ]
    }
   ],
   "source": [
    "# Remplacer toutes les valeurs 'False' dans les colonnes 'Superficie' et 'Chambres' par NaN\n",
    "df['Superficie'] = df['Superficie'].replace(['False'], np.nan)\n",
    "df['Chambres'] = df['Chambres'].replace(['False'], np.nan)\n",
    "\n",
    "# Remplacer toutes les valeurs 'False' dans la colonne \"Salles de bains\" par la valeur par défaut 1\n",
    "df['Salles de bains'].replace('False', 1, inplace=True)\n",
    "\n",
    "df['Prix'] = pd.to_numeric(df['Prix'], errors='coerce') # convertir en numérique"
   ]
  },
  {
   "cell_type": "code",
   "execution_count": 7,
   "metadata": {},
   "outputs": [
    {
     "data": {
      "text/html": [
       "<div>\n",
       "<style scoped>\n",
       "    .dataframe tbody tr th:only-of-type {\n",
       "        vertical-align: middle;\n",
       "    }\n",
       "\n",
       "    .dataframe tbody tr th {\n",
       "        vertical-align: top;\n",
       "    }\n",
       "\n",
       "    .dataframe thead th {\n",
       "        text-align: right;\n",
       "    }\n",
       "</style>\n",
       "<table border=\"1\" class=\"dataframe\">\n",
       "  <thead>\n",
       "    <tr style=\"text-align: right;\">\n",
       "      <th></th>\n",
       "      <th>Type de bien</th>\n",
       "      <th>Localisation</th>\n",
       "      <th>Annonce</th>\n",
       "      <th>Salles de bains</th>\n",
       "      <th>Superficie</th>\n",
       "      <th>Prix</th>\n",
       "      <th>Chambres</th>\n",
       "    </tr>\n",
       "  </thead>\n",
       "  <tbody>\n",
       "    <tr>\n",
       "      <th>1635</th>\n",
       "      <td>Appartement</td>\n",
       "      <td>Nabeul</td>\n",
       "      <td>Appartement (A2-3) en S+2 de 137.4 m² au deuxi...</td>\n",
       "      <td>2</td>\n",
       "      <td>137.4</td>\n",
       "      <td>345000.0</td>\n",
       "      <td>2</td>\n",
       "    </tr>\n",
       "    <tr>\n",
       "      <th>1636</th>\n",
       "      <td>Bureau</td>\n",
       "      <td>Ben Arous</td>\n",
       "      <td>A vendre un bureau (B3-1) de 72,58m² au 3éme é...</td>\n",
       "      <td>1</td>\n",
       "      <td>72.58</td>\n",
       "      <td>NaN</td>\n",
       "      <td>NaN</td>\n",
       "    </tr>\n",
       "    <tr>\n",
       "      <th>1637</th>\n",
       "      <td>Bureau</td>\n",
       "      <td>Sousse</td>\n",
       "      <td>un bureau B27 de 89,07m² au 2éme étage à Sahlo...</td>\n",
       "      <td>2</td>\n",
       "      <td>89.07</td>\n",
       "      <td>1600.0</td>\n",
       "      <td>2</td>\n",
       "    </tr>\n",
       "    <tr>\n",
       "      <th>1638</th>\n",
       "      <td>Appartement</td>\n",
       "      <td>Sousse</td>\n",
       "      <td>A vendre un appartement S+2  de 96,92  m²  au ...</td>\n",
       "      <td>2</td>\n",
       "      <td>96.92</td>\n",
       "      <td>310000.0</td>\n",
       "      <td>2</td>\n",
       "    </tr>\n",
       "    <tr>\n",
       "      <th>1639</th>\n",
       "      <td>Appartement</td>\n",
       "      <td>Sousse</td>\n",
       "      <td>A vendre un appartement S+1  de 70,03  m²  au ...</td>\n",
       "      <td>1</td>\n",
       "      <td>70.03</td>\n",
       "      <td>250000.0</td>\n",
       "      <td>1</td>\n",
       "    </tr>\n",
       "  </tbody>\n",
       "</table>\n",
       "</div>"
      ],
      "text/plain": [
       "     Type de bien Localisation  \\\n",
       "1635  Appartement       Nabeul   \n",
       "1636       Bureau    Ben Arous   \n",
       "1637       Bureau       Sousse   \n",
       "1638  Appartement       Sousse   \n",
       "1639  Appartement       Sousse   \n",
       "\n",
       "                                                Annonce Salles de bains  \\\n",
       "1635  Appartement (A2-3) en S+2 de 137.4 m² au deuxi...               2   \n",
       "1636  A vendre un bureau (B3-1) de 72,58m² au 3éme é...               1   \n",
       "1637  un bureau B27 de 89,07m² au 2éme étage à Sahlo...               2   \n",
       "1638  A vendre un appartement S+2  de 96,92  m²  au ...               2   \n",
       "1639  A vendre un appartement S+1  de 70,03  m²  au ...               1   \n",
       "\n",
       "     Superficie      Prix Chambres  \n",
       "1635      137.4  345000.0        2  \n",
       "1636      72.58       NaN      NaN  \n",
       "1637      89.07    1600.0        2  \n",
       "1638      96.92  310000.0        2  \n",
       "1639      70.03  250000.0        1  "
      ]
     },
     "execution_count": 7,
     "metadata": {},
     "output_type": "execute_result"
    }
   ],
   "source": [
    "df.tail()"
   ]
  },
  {
   "cell_type": "code",
   "execution_count": 8,
   "metadata": {},
   "outputs": [
    {
     "data": {
      "image/png": "[encoded data removed]",
      "text/plain": [
       "<Figure size 600x400 with 1 Axes>"
      ]
     },
     "metadata": {},
     "output_type": "display_data"
    }
   ],
   "source": [
    "plt.figure(figsize=(6, 4))\n",
    "sns.heatmap(df.isnull(), cbar=False, cmap='viridis')\n",
    "plt.title(\"Missing Values Heatmap\")\n",
    "plt.show()"
   ]
  },
  {
   "cell_type": "code",
   "execution_count": 9,
   "metadata": {},
   "outputs": [
    {
     "name": "stdout",
     "output_type": "stream",
     "text": [
      "Value counts for 'Type de bien':\n",
      " Type de bien\n",
      "Appartement         117\n",
      "Bureau               18\n",
      "Villa                15\n",
      "Local Commercial     15\n",
      "Duplexe               9\n",
      "Penthouse             2\n",
      "Name: count, dtype: int64\n",
      "Missing values in 'Type de bien' column:  1464\n"
     ]
    }
   ],
   "source": [
    "# On s'interesse dans cette partie aux valeurs manquantes dans la colonne type de biens\n",
    "print(\"Value counts for 'Type de bien':\\n\", df['Type de bien'].value_counts())\n",
    "print(\"Missing values in 'Type de bien' column: \", df['Type de bien'].isnull().sum())"
   ]
  },
  {
   "cell_type": "code",
   "execution_count": 10,
   "metadata": {},
   "outputs": [],
   "source": [
    "keywords = {\n",
    "    'appartement': 'Appartement',\n",
    "    'villa': 'Villa',\n",
    "    'maison': 'Maison'\n",
    "}\n",
    "# chercher dans les annonces les keywords qui nous interessent\n",
    "for keyword, replacement in keywords.items():\n",
    "    condition = df['Annonce'].str.contains(keyword, case=False, na=False)\n",
    "    df.loc[condition & df['Type de bien'].isna(), 'Type de bien'] = replacement"
   ]
  },
  {
   "cell_type": "code",
   "execution_count": 11,
   "metadata": {},
   "outputs": [],
   "source": [
    "# suite aux observations, les données non labelisées correspondent à des appartements\n",
    "df.loc[df['Type de bien'].isna() & df['Chambres'].notna(), 'Type de bien'] = 'Appartement'"
   ]
  },
  {
   "cell_type": "code",
   "execution_count": 12,
   "metadata": {},
   "outputs": [
    {
     "name": "stdout",
     "output_type": "stream",
     "text": [
      "Value counts for 'Type de bien':\n",
      " Type de bien\n",
      "Appartement         1136\n",
      "Villa                311\n",
      "Maison               121\n",
      "Bureau                18\n",
      "Local Commercial      15\n",
      "Duplexe                9\n",
      "Penthouse              2\n",
      "Name: count, dtype: int64\n",
      "Missing values in 'Type de bien' column:  28\n"
     ]
    }
   ],
   "source": [
    "# verification\n",
    "print(\"Value counts for 'Type de bien':\\n\", df['Type de bien'].value_counts())\n",
    "print(\"Missing values in 'Type de bien' column: \", df['Type de bien'].isnull().sum())"
   ]
  },
  {
   "cell_type": "code",
   "execution_count": 13,
   "metadata": {},
   "outputs": [],
   "source": [
    "# Apres la visualtion des nvlles données, on a remarqué que les données \n",
    "# manquantes restantes dans la colonne 'Type de bien' sont des\n",
    "# biens commerciaux dont on n'aura pas besoin reellement\n",
    "\n",
    "# Garder uniquement les lignes où 'Type de bien' est 'appartement', 'maison', ou 'villa'\n",
    "df = df[df['Type de bien'].isin(['Appartement', 'Maison', 'Villa'])]\n",
    "\n",
    "df = df.drop(columns=['Annonce']) # on n'en a plus besoin"
   ]
  },
  {
   "cell_type": "code",
   "execution_count": 14,
   "metadata": {},
   "outputs": [
    {
     "data": {
      "text/html": [
       "<div>\n",
       "<style scoped>\n",
       "    .dataframe tbody tr th:only-of-type {\n",
       "        vertical-align: middle;\n",
       "    }\n",
       "\n",
       "    .dataframe tbody tr th {\n",
       "        vertical-align: top;\n",
       "    }\n",
       "\n",
       "    .dataframe thead th {\n",
       "        text-align: right;\n",
       "    }\n",
       "</style>\n",
       "<table border=\"1\" class=\"dataframe\">\n",
       "  <thead>\n",
       "    <tr style=\"text-align: right;\">\n",
       "      <th></th>\n",
       "      <th>Type de bien</th>\n",
       "      <th>Localisation</th>\n",
       "      <th>Salles de bains</th>\n",
       "      <th>Superficie</th>\n",
       "      <th>Prix</th>\n",
       "      <th>Chambres</th>\n",
       "    </tr>\n",
       "  </thead>\n",
       "  <tbody>\n",
       "    <tr>\n",
       "      <th>0</th>\n",
       "      <td>Appartement</td>\n",
       "      <td>Ariana</td>\n",
       "      <td>3</td>\n",
       "      <td>150</td>\n",
       "      <td>400000.0</td>\n",
       "      <td>3</td>\n",
       "    </tr>\n",
       "    <tr>\n",
       "      <th>1</th>\n",
       "      <td>Appartement</td>\n",
       "      <td>Nabeul</td>\n",
       "      <td>1</td>\n",
       "      <td>60</td>\n",
       "      <td>125000.0</td>\n",
       "      <td>1</td>\n",
       "    </tr>\n",
       "    <tr>\n",
       "      <th>2</th>\n",
       "      <td>Villa</td>\n",
       "      <td>Ariana</td>\n",
       "      <td>3</td>\n",
       "      <td>517</td>\n",
       "      <td>1150000.0</td>\n",
       "      <td>5</td>\n",
       "    </tr>\n",
       "    <tr>\n",
       "      <th>3</th>\n",
       "      <td>Appartement</td>\n",
       "      <td>Ariana</td>\n",
       "      <td>2</td>\n",
       "      <td>54</td>\n",
       "      <td>50516006.0</td>\n",
       "      <td>1</td>\n",
       "    </tr>\n",
       "    <tr>\n",
       "      <th>4</th>\n",
       "      <td>Villa</td>\n",
       "      <td>Nabeul</td>\n",
       "      <td>4</td>\n",
       "      <td>485</td>\n",
       "      <td>890000.0</td>\n",
       "      <td>4</td>\n",
       "    </tr>\n",
       "  </tbody>\n",
       "</table>\n",
       "</div>"
      ],
      "text/plain": [
       "  Type de bien Localisation Salles de bains Superficie        Prix Chambres\n",
       "0  Appartement       Ariana               3        150    400000.0        3\n",
       "1  Appartement       Nabeul               1         60    125000.0        1\n",
       "2        Villa       Ariana               3        517   1150000.0        5\n",
       "3  Appartement       Ariana               2         54  50516006.0        1\n",
       "4        Villa       Nabeul               4        485    890000.0        4"
      ]
     },
     "execution_count": 14,
     "metadata": {},
     "output_type": "execute_result"
    }
   ],
   "source": [
    "df.head()"
   ]
  },
  {
   "cell_type": "code",
   "execution_count": 15,
   "metadata": {},
   "outputs": [
    {
     "data": {
      "image/png": "[encoded data removed]",
      "text/plain": [
       "<Figure size 640x480 with 1 Axes>"
      ]
     },
     "metadata": {},
     "output_type": "display_data"
    }
   ],
   "source": [
    "q99 = df['Prix'].quantile(0.99)\n",
    "filtered_df = df[df['Prix'] <= q99]\n",
    "\n",
    "sns.boxplot(x='Type de bien', y='Prix', data=filtered_df)\n",
    "plt.title(\"Répartition des prix par type de bien\")\n",
    "plt.xlabel(\"Type de bien\")\n",
    "plt.ylabel(\"Prix\")\n",
    "plt.show()"
   ]
  },
  {
   "cell_type": "code",
   "execution_count": 16,
   "metadata": {},
   "outputs": [
    {
     "name": "stderr",
     "output_type": "stream",
     "text": [
      "c:\\Users\\My_Computing\\AppData\\Local\\Programs\\Python\\Python312\\Lib\\site-packages\\numpy\\lib\\_nanfunctions_impl.py:1241: RuntimeWarning: Mean of empty slice\n",
      "  return np.nanmean(a, axis, out=out, keepdims=keepdims)\n",
      "c:\\Users\\My_Computing\\AppData\\Local\\Programs\\Python\\Python312\\Lib\\site-packages\\numpy\\lib\\_nanfunctions_impl.py:1241: RuntimeWarning: Mean of empty slice\n",
      "  return np.nanmean(a, axis, out=out, keepdims=keepdims)\n",
      "c:\\Users\\My_Computing\\AppData\\Local\\Programs\\Python\\Python312\\Lib\\site-packages\\numpy\\lib\\_nanfunctions_impl.py:1241: RuntimeWarning: Mean of empty slice\n",
      "  return np.nanmean(a, axis, out=out, keepdims=keepdims)\n",
      "c:\\Users\\My_Computing\\AppData\\Local\\Programs\\Python\\Python312\\Lib\\site-packages\\numpy\\lib\\_nanfunctions_impl.py:1241: RuntimeWarning: Mean of empty slice\n",
      "  return np.nanmean(a, axis, out=out, keepdims=keepdims)\n",
      "c:\\Users\\My_Computing\\AppData\\Local\\Programs\\Python\\Python312\\Lib\\site-packages\\numpy\\lib\\_nanfunctions_impl.py:1241: RuntimeWarning: Mean of empty slice\n",
      "  return np.nanmean(a, axis, out=out, keepdims=keepdims)\n",
      "c:\\Users\\My_Computing\\AppData\\Local\\Programs\\Python\\Python312\\Lib\\site-packages\\numpy\\lib\\_nanfunctions_impl.py:1241: RuntimeWarning: Mean of empty slice\n",
      "  return np.nanmean(a, axis, out=out, keepdims=keepdims)\n",
      "c:\\Users\\My_Computing\\AppData\\Local\\Programs\\Python\\Python312\\Lib\\site-packages\\numpy\\lib\\_nanfunctions_impl.py:1241: RuntimeWarning: Mean of empty slice\n",
      "  return np.nanmean(a, axis, out=out, keepdims=keepdims)\n",
      "c:\\Users\\My_Computing\\AppData\\Local\\Programs\\Python\\Python312\\Lib\\site-packages\\numpy\\lib\\_nanfunctions_impl.py:1241: RuntimeWarning: Mean of empty slice\n",
      "  return np.nanmean(a, axis, out=out, keepdims=keepdims)\n",
      "c:\\Users\\My_Computing\\AppData\\Local\\Programs\\Python\\Python312\\Lib\\site-packages\\numpy\\lib\\_nanfunctions_impl.py:1241: RuntimeWarning: Mean of empty slice\n",
      "  return np.nanmean(a, axis, out=out, keepdims=keepdims)\n",
      "c:\\Users\\My_Computing\\AppData\\Local\\Programs\\Python\\Python312\\Lib\\site-packages\\numpy\\lib\\_nanfunctions_impl.py:1241: RuntimeWarning: Mean of empty slice\n",
      "  return np.nanmean(a, axis, out=out, keepdims=keepdims)\n",
      "c:\\Users\\My_Computing\\AppData\\Local\\Programs\\Python\\Python312\\Lib\\site-packages\\numpy\\lib\\_nanfunctions_impl.py:1241: RuntimeWarning: Mean of empty slice\n",
      "  return np.nanmean(a, axis, out=out, keepdims=keepdims)\n",
      "c:\\Users\\My_Computing\\AppData\\Local\\Programs\\Python\\Python312\\Lib\\site-packages\\numpy\\lib\\_nanfunctions_impl.py:1241: RuntimeWarning: Mean of empty slice\n",
      "  return np.nanmean(a, axis, out=out, keepdims=keepdims)\n",
      "c:\\Users\\My_Computing\\AppData\\Local\\Programs\\Python\\Python312\\Lib\\site-packages\\numpy\\lib\\_nanfunctions_impl.py:1241: RuntimeWarning: Mean of empty slice\n",
      "  return np.nanmean(a, axis, out=out, keepdims=keepdims)\n",
      "c:\\Users\\My_Computing\\AppData\\Local\\Programs\\Python\\Python312\\Lib\\site-packages\\numpy\\lib\\_nanfunctions_impl.py:1241: RuntimeWarning: Mean of empty slice\n",
      "  return np.nanmean(a, axis, out=out, keepdims=keepdims)\n",
      "c:\\Users\\My_Computing\\AppData\\Local\\Programs\\Python\\Python312\\Lib\\site-packages\\numpy\\lib\\_nanfunctions_impl.py:1241: RuntimeWarning: Mean of empty slice\n",
      "  return np.nanmean(a, axis, out=out, keepdims=keepdims)\n",
      "c:\\Users\\My_Computing\\AppData\\Local\\Programs\\Python\\Python312\\Lib\\site-packages\\numpy\\lib\\_nanfunctions_impl.py:1241: RuntimeWarning: Mean of empty slice\n",
      "  return np.nanmean(a, axis, out=out, keepdims=keepdims)\n",
      "c:\\Users\\My_Computing\\AppData\\Local\\Programs\\Python\\Python312\\Lib\\site-packages\\numpy\\lib\\_nanfunctions_impl.py:1241: RuntimeWarning: Mean of empty slice\n",
      "  return np.nanmean(a, axis, out=out, keepdims=keepdims)\n",
      "c:\\Users\\My_Computing\\AppData\\Local\\Programs\\Python\\Python312\\Lib\\site-packages\\numpy\\lib\\_nanfunctions_impl.py:1241: RuntimeWarning: Mean of empty slice\n",
      "  return np.nanmean(a, axis, out=out, keepdims=keepdims)\n",
      "c:\\Users\\My_Computing\\AppData\\Local\\Programs\\Python\\Python312\\Lib\\site-packages\\numpy\\lib\\_nanfunctions_impl.py:1241: RuntimeWarning: Mean of empty slice\n",
      "  return np.nanmean(a, axis, out=out, keepdims=keepdims)\n",
      "c:\\Users\\My_Computing\\AppData\\Local\\Programs\\Python\\Python312\\Lib\\site-packages\\numpy\\lib\\_nanfunctions_impl.py:1241: RuntimeWarning: Mean of empty slice\n",
      "  return np.nanmean(a, axis, out=out, keepdims=keepdims)\n",
      "c:\\Users\\My_Computing\\AppData\\Local\\Programs\\Python\\Python312\\Lib\\site-packages\\numpy\\lib\\_nanfunctions_impl.py:1241: RuntimeWarning: Mean of empty slice\n",
      "  return np.nanmean(a, axis, out=out, keepdims=keepdims)\n",
      "c:\\Users\\My_Computing\\AppData\\Local\\Programs\\Python\\Python312\\Lib\\site-packages\\numpy\\lib\\_nanfunctions_impl.py:1241: RuntimeWarning: Mean of empty slice\n",
      "  return np.nanmean(a, axis, out=out, keepdims=keepdims)\n",
      "c:\\Users\\My_Computing\\AppData\\Local\\Programs\\Python\\Python312\\Lib\\site-packages\\numpy\\lib\\_nanfunctions_impl.py:1241: RuntimeWarning: Mean of empty slice\n",
      "  return np.nanmean(a, axis, out=out, keepdims=keepdims)\n",
      "c:\\Users\\My_Computing\\AppData\\Local\\Programs\\Python\\Python312\\Lib\\site-packages\\numpy\\lib\\_nanfunctions_impl.py:1241: RuntimeWarning: Mean of empty slice\n",
      "  return np.nanmean(a, axis, out=out, keepdims=keepdims)\n",
      "c:\\Users\\My_Computing\\AppData\\Local\\Programs\\Python\\Python312\\Lib\\site-packages\\numpy\\lib\\_nanfunctions_impl.py:1241: RuntimeWarning: Mean of empty slice\n",
      "  return np.nanmean(a, axis, out=out, keepdims=keepdims)\n",
      "c:\\Users\\My_Computing\\AppData\\Local\\Programs\\Python\\Python312\\Lib\\site-packages\\numpy\\lib\\_nanfunctions_impl.py:1241: RuntimeWarning: Mean of empty slice\n",
      "  return np.nanmean(a, axis, out=out, keepdims=keepdims)\n",
      "c:\\Users\\My_Computing\\AppData\\Local\\Programs\\Python\\Python312\\Lib\\site-packages\\numpy\\lib\\_nanfunctions_impl.py:1241: RuntimeWarning: Mean of empty slice\n",
      "  return np.nanmean(a, axis, out=out, keepdims=keepdims)\n",
      "c:\\Users\\My_Computing\\AppData\\Local\\Programs\\Python\\Python312\\Lib\\site-packages\\numpy\\lib\\_nanfunctions_impl.py:1241: RuntimeWarning: Mean of empty slice\n",
      "  return np.nanmean(a, axis, out=out, keepdims=keepdims)\n",
      "c:\\Users\\My_Computing\\AppData\\Local\\Programs\\Python\\Python312\\Lib\\site-packages\\numpy\\lib\\_nanfunctions_impl.py:1241: RuntimeWarning: Mean of empty slice\n",
      "  return np.nanmean(a, axis, out=out, keepdims=keepdims)\n",
      "c:\\Users\\My_Computing\\AppData\\Local\\Programs\\Python\\Python312\\Lib\\site-packages\\numpy\\lib\\_nanfunctions_impl.py:1241: RuntimeWarning: Mean of empty slice\n",
      "  return np.nanmean(a, axis, out=out, keepdims=keepdims)\n",
      "c:\\Users\\My_Computing\\AppData\\Local\\Programs\\Python\\Python312\\Lib\\site-packages\\numpy\\lib\\_nanfunctions_impl.py:1241: RuntimeWarning: Mean of empty slice\n",
      "  return np.nanmean(a, axis, out=out, keepdims=keepdims)\n",
      "c:\\Users\\My_Computing\\AppData\\Local\\Programs\\Python\\Python312\\Lib\\site-packages\\numpy\\lib\\_nanfunctions_impl.py:1241: RuntimeWarning: Mean of empty slice\n",
      "  return np.nanmean(a, axis, out=out, keepdims=keepdims)\n",
      "c:\\Users\\My_Computing\\AppData\\Local\\Programs\\Python\\Python312\\Lib\\site-packages\\numpy\\lib\\_nanfunctions_impl.py:1241: RuntimeWarning: Mean of empty slice\n",
      "  return np.nanmean(a, axis, out=out, keepdims=keepdims)\n",
      "c:\\Users\\My_Computing\\AppData\\Local\\Programs\\Python\\Python312\\Lib\\site-packages\\numpy\\lib\\_nanfunctions_impl.py:1241: RuntimeWarning: Mean of empty slice\n",
      "  return np.nanmean(a, axis, out=out, keepdims=keepdims)\n",
      "c:\\Users\\My_Computing\\AppData\\Local\\Programs\\Python\\Python312\\Lib\\site-packages\\numpy\\lib\\_nanfunctions_impl.py:1241: RuntimeWarning: Mean of empty slice\n",
      "  return np.nanmean(a, axis, out=out, keepdims=keepdims)\n",
      "c:\\Users\\My_Computing\\AppData\\Local\\Programs\\Python\\Python312\\Lib\\site-packages\\numpy\\lib\\_nanfunctions_impl.py:1241: RuntimeWarning: Mean of empty slice\n",
      "  return np.nanmean(a, axis, out=out, keepdims=keepdims)\n",
      "c:\\Users\\My_Computing\\AppData\\Local\\Programs\\Python\\Python312\\Lib\\site-packages\\numpy\\lib\\_nanfunctions_impl.py:1241: RuntimeWarning: Mean of empty slice\n",
      "  return np.nanmean(a, axis, out=out, keepdims=keepdims)\n",
      "c:\\Users\\My_Computing\\AppData\\Local\\Programs\\Python\\Python312\\Lib\\site-packages\\numpy\\lib\\_nanfunctions_impl.py:1241: RuntimeWarning: Mean of empty slice\n",
      "  return np.nanmean(a, axis, out=out, keepdims=keepdims)\n",
      "c:\\Users\\My_Computing\\AppData\\Local\\Programs\\Python\\Python312\\Lib\\site-packages\\numpy\\lib\\_nanfunctions_impl.py:1241: RuntimeWarning: Mean of empty slice\n",
      "  return np.nanmean(a, axis, out=out, keepdims=keepdims)\n",
      "c:\\Users\\My_Computing\\AppData\\Local\\Programs\\Python\\Python312\\Lib\\site-packages\\numpy\\lib\\_nanfunctions_impl.py:1241: RuntimeWarning: Mean of empty slice\n",
      "  return np.nanmean(a, axis, out=out, keepdims=keepdims)\n",
      "c:\\Users\\My_Computing\\AppData\\Local\\Programs\\Python\\Python312\\Lib\\site-packages\\numpy\\lib\\_nanfunctions_impl.py:1241: RuntimeWarning: Mean of empty slice\n",
      "  return np.nanmean(a, axis, out=out, keepdims=keepdims)\n",
      "c:\\Users\\My_Computing\\AppData\\Local\\Programs\\Python\\Python312\\Lib\\site-packages\\numpy\\lib\\_nanfunctions_impl.py:1241: RuntimeWarning: Mean of empty slice\n",
      "  return np.nanmean(a, axis, out=out, keepdims=keepdims)\n",
      "c:\\Users\\My_Computing\\AppData\\Local\\Programs\\Python\\Python312\\Lib\\site-packages\\numpy\\lib\\_nanfunctions_impl.py:1241: RuntimeWarning: Mean of empty slice\n",
      "  return np.nanmean(a, axis, out=out, keepdims=keepdims)\n",
      "c:\\Users\\My_Computing\\AppData\\Local\\Programs\\Python\\Python312\\Lib\\site-packages\\numpy\\lib\\_nanfunctions_impl.py:1241: RuntimeWarning: Mean of empty slice\n",
      "  return np.nanmean(a, axis, out=out, keepdims=keepdims)\n",
      "c:\\Users\\My_Computing\\AppData\\Local\\Programs\\Python\\Python312\\Lib\\site-packages\\numpy\\lib\\_nanfunctions_impl.py:1241: RuntimeWarning: Mean of empty slice\n",
      "  return np.nanmean(a, axis, out=out, keepdims=keepdims)\n",
      "c:\\Users\\My_Computing\\AppData\\Local\\Programs\\Python\\Python312\\Lib\\site-packages\\numpy\\lib\\_nanfunctions_impl.py:1241: RuntimeWarning: Mean of empty slice\n",
      "  return np.nanmean(a, axis, out=out, keepdims=keepdims)\n",
      "c:\\Users\\My_Computing\\AppData\\Local\\Programs\\Python\\Python312\\Lib\\site-packages\\numpy\\lib\\_nanfunctions_impl.py:1241: RuntimeWarning: Mean of empty slice\n",
      "  return np.nanmean(a, axis, out=out, keepdims=keepdims)\n",
      "c:\\Users\\My_Computing\\AppData\\Local\\Programs\\Python\\Python312\\Lib\\site-packages\\numpy\\lib\\_nanfunctions_impl.py:1241: RuntimeWarning: Mean of empty slice\n",
      "  return np.nanmean(a, axis, out=out, keepdims=keepdims)\n",
      "c:\\Users\\My_Computing\\AppData\\Local\\Programs\\Python\\Python312\\Lib\\site-packages\\numpy\\lib\\_nanfunctions_impl.py:1241: RuntimeWarning: Mean of empty slice\n",
      "  return np.nanmean(a, axis, out=out, keepdims=keepdims)\n",
      "c:\\Users\\My_Computing\\AppData\\Local\\Programs\\Python\\Python312\\Lib\\site-packages\\numpy\\lib\\_nanfunctions_impl.py:1241: RuntimeWarning: Mean of empty slice\n",
      "  return np.nanmean(a, axis, out=out, keepdims=keepdims)\n",
      "c:\\Users\\My_Computing\\AppData\\Local\\Programs\\Python\\Python312\\Lib\\site-packages\\numpy\\lib\\_nanfunctions_impl.py:1241: RuntimeWarning: Mean of empty slice\n",
      "  return np.nanmean(a, axis, out=out, keepdims=keepdims)\n",
      "c:\\Users\\My_Computing\\AppData\\Local\\Programs\\Python\\Python312\\Lib\\site-packages\\numpy\\lib\\_nanfunctions_impl.py:1241: RuntimeWarning: Mean of empty slice\n",
      "  return np.nanmean(a, axis, out=out, keepdims=keepdims)\n",
      "c:\\Users\\My_Computing\\AppData\\Local\\Programs\\Python\\Python312\\Lib\\site-packages\\numpy\\lib\\_nanfunctions_impl.py:1241: RuntimeWarning: Mean of empty slice\n",
      "  return np.nanmean(a, axis, out=out, keepdims=keepdims)\n"
     ]
    }
   ],
   "source": [
    "# Imputation basée sur la médiane des prix groupée par Localisation, Nombre de chambres, et Type de bien\n",
    "df['Prix'] = df.groupby(['Localisation', 'Chambres', 'Type de bien'])['Prix'].transform(\n",
    "    lambda x: x.fillna(x.median())\n",
    ")\n",
    "df['Prix'] = df.groupby(['Localisation', 'Chambres'])['Prix'].transform(\n",
    "    lambda x: x.fillna(x.median())\n",
    ")"
   ]
  },
  {
   "cell_type": "code",
   "execution_count": 17,
   "metadata": {},
   "outputs": [
    {
     "data": {
      "image/png": "[encoded data removed]",
      "text/plain": [
       "<Figure size 600x400 with 1 Axes>"
      ]
     },
     "metadata": {},
     "output_type": "display_data"
    }
   ],
   "source": [
    "plt.figure(figsize=(6, 4))\n",
    "sns.heatmap(df.isnull(), cbar=False, cmap='viridis')\n",
    "plt.title(\"Missing Values Heatmap\")\n",
    "plt.show()"
   ]
  },
  {
   "cell_type": "code",
   "execution_count": 18,
   "metadata": {},
   "outputs": [],
   "source": [
    "# supprimer les annonces sans détails\n",
    "df.dropna(subset=['Prix', 'Chambres', 'Superficie'], inplace=True)"
   ]
  },
  {
   "cell_type": "code",
   "execution_count": 19,
   "metadata": {},
   "outputs": [],
   "source": [
    "# garder que l'intervalle logique du nombre de chambres\n",
    "df['Chambres'] = pd.to_numeric(df['Chambres'], errors='coerce')\n",
    "df = df[(df['Chambres'] >= 0) & (df['Chambres'] <= 14)]\n",
    "# print(df['Chambres'].unique())"
   ]
  },
  {
   "cell_type": "code",
   "execution_count": 20,
   "metadata": {},
   "outputs": [],
   "source": [
    "df.to_csv('cleaned_immobiliers.csv', index=False, encoding='utf-8')"
   ]
  }
 ],
 "metadata": {
  "kernelspec": {
   "display_name": "Python 3",
   "language": "python",
   "name": "python3"
  },
  "language_info": {
   "codemirror_mode": {
    "name": "ipython",
    "version": 3
   },
   "file_extension": ".py",
   "mimetype": "text/x-python",
   "name": "python",
   "nbconvert_exporter": "python",
   "pygments_lexer": "ipython3",
   "version": "3.12.6"
  }
 },
 "nbformat": 4,
 "nbformat_minor": 2
}
