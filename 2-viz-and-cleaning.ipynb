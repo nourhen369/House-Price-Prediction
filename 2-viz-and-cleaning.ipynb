{
 "cells": [
  {
   "cell_type": "code",
   "execution_count": 1,
   "metadata": {},
   "outputs": [
    {
     "name": "stderr",
     "output_type": "stream",
     "text": [
      "c:\\Users\\My_Computing\\AppData\\Local\\Programs\\Python\\Python310\\lib\\site-packages\\tqdm\\auto.py:21: TqdmWarning: IProgress not found. Please update jupyter and ipywidgets. See https://ipywidgets.readthedocs.io/en/stable/user_install.html\n",
      "  from .autonotebook import tqdm as notebook_tqdm\n"
     ]
    },
    {
     "data": {
      "text/html": [
       "\n",
       "            <div>\n",
       "                <ins><a href=\"https://ydata.ai/register\">Upgrade to ydata-sdk</a></ins>\n",
       "                <p>\n",
       "                    Improve your data and profiling with ydata-sdk, featuring data quality scoring, redundancy detection, outlier identification, text validation, and synthetic data generation.\n",
       "                </p>\n",
       "            </div>\n",
       "            "
      ],
      "text/plain": [
       "<IPython.core.display.HTML object>"
      ]
     },
     "metadata": {},
     "output_type": "display_data"
    }
   ],
   "source": [
    "import pandas as pd\n",
    "from sklearn.impute import KNNImputer\n",
    "import numpy as np\n",
    "from sklearn.linear_model import LinearRegression\n",
    "from ydata_profiling import ProfileReport"
   ]
  },
  {
   "cell_type": "code",
   "execution_count": null,
   "metadata": {},
   "outputs": [
    {
     "name": "stdout",
     "output_type": "stream",
     "text": [
      "Missing values per column:\n",
      "Region             0\n",
      "Localisation    2070\n",
      "Type            1319\n",
      "Nature            31\n",
      "Area             335\n",
      "#Bathrooms       315\n",
      "#Bedrooms        221\n",
      "Price             15\n",
      "dtype: int64\n"
     ]
    }
   ],
   "source": [
    "df = pd.read_csv('data/final_scrapped_immobiliers.csv')\n",
    "\n",
    "# Check for missing values\n",
    "print(\"Missing values per column:\")\n",
    "print(df.isnull().sum())\n",
    "\n",
    "# Generate a profiling report before cleaning\n",
    "profile = ProfileReport(df, title=\"Profiling Report\", explorative=True)\n",
    "profile.to_file(\"data/immobiliers_report_before_cleaning.html\")"
   ]
  },
  {
   "cell_type": "markdown",
   "metadata": {},
   "source": [
    "Handling missing values in 'Type de bien'"
   ]
  },
  {
   "cell_type": "code",
   "execution_count": 3,
   "metadata": {},
   "outputs": [
    {
     "name": "stdout",
     "output_type": "stream",
     "text": [
      "Type\n",
      "Appartement    2020\n",
      "Villa          1240\n",
      "Maison          487\n",
      "Name: count, dtype: int64\n",
      "Missing values in 'Type' after: 0\n"
     ]
    }
   ],
   "source": [
    "# Convert '#Bedrooms' to numeric\n",
    "df['#Bedrooms'] = pd.to_numeric(df['#Bedrooms'], errors='coerce')\n",
    "\n",
    "# Fill missing values in 'Type'\n",
    "df.loc[(df['Type'].isnull()) & \n",
    "       (df['#Bedrooms'].between(1, 4)) & \n",
    "       (df['#Bathrooms'].between(1, 2)), 'Type'] = 'Appartement'\n",
    "df.loc[(df['Type'].isnull()) & \n",
    "    (df['#Bedrooms'] > 4) & \n",
    "    (df['#Bathrooms'] >= 2), 'Type'] = 'Villa'\n",
    "df['Type'] = df['Type'].str.capitalize()\n",
    "\n",
    "# Drop the rest and verify the change\n",
    "df = df.dropna(subset=['Type'])\n",
    "print(df['Type'].value_counts())\n",
    "print(\"Missing values in 'Type' after:\", df['Type'].isnull().sum())"
   ]
  },
  {
   "cell_type": "code",
   "execution_count": 4,
   "metadata": {},
   "outputs": [
    {
     "name": "stdout",
     "output_type": "stream",
     "text": [
      "Missing values after cleaning:\n",
      "Area            0\n",
      "#Bedrooms       0\n",
      "#Bathrooms      0\n",
      "Type            0\n",
      "Localisation    0\n",
      "dtype: int64\n"
     ]
    }
   ],
   "source": [
    "df = df.copy()  # Pour éviter les SettingWithCopyWarning\n",
    "\n",
    "# Handle Missing Values for 'Localisation' using KNN\n",
    "df['Localisation_num'] = df['Localisation'].astype('category').cat.codes\n",
    "localisation_imputer = KNNImputer(n_neighbors=5)\n",
    "df['Localisation_num'] = localisation_imputer.fit_transform(df[['Localisation_num']])\n",
    "\n",
    "localisation_mapping = dict(enumerate(df['Localisation'].astype('category').cat.categories))\n",
    "df['Localisation'] = df['Localisation_num'].round().astype(int).map(localisation_mapping)\n",
    "df = df.drop(columns=['Localisation_num'])\n",
    "\n",
    "# Handle Missing Values for 'Area' based on 'Type'\n",
    "df['Area'] = df.groupby('Type')['Area'].transform(lambda x: x.fillna(x.median()))\n",
    "\n",
    "# Handle Missing Values for '#Bedrooms'\n",
    "df['#Bedrooms'] = pd.to_numeric(df['#Bedrooms'], errors='coerce')\n",
    "knn_imputer = KNNImputer(n_neighbors=5)\n",
    "df[['#Bedrooms']] = knn_imputer.fit_transform(df[['#Bedrooms']])\n",
    "df['#Bedrooms'] = df['#Bedrooms'].round()\n",
    "df['#Bedrooms'] = df['#Bedrooms'].replace(0, np.nan)\n",
    "df['#Bedrooms'] = df.groupby('Type')['#Bedrooms'].transform(lambda x: x.fillna(x.median()))\n",
    "\n",
    "# Handle Missing Values for '#Bathrooms' based on 'Type' and 'Localisation'\n",
    "df['#Bathrooms'] = df.groupby(['Type', 'Localisation'])['#Bathrooms'].transform(\n",
    "    lambda x: x.fillna(x.mode().iloc[0]) if not x.mode().empty else x.fillna(1)\n",
    ")\n",
    "df['#Bathrooms'] = df['#Bathrooms'].round()\n",
    "df['#Bathrooms'] = df['#Bathrooms'].replace(0, np.nan)\n",
    "df['#Bathrooms'] = df.groupby('Type')['#Bathrooms'].transform(lambda x: x.fillna(x.median()))\n",
    "\n",
    "df = df.dropna(subset=['Type', 'Localisation'])\n",
    "\n",
    "# Résultat\n",
    "print(\"Missing values after cleaning:\")\n",
    "print(df[['Area', '#Bedrooms', '#Bathrooms', 'Type', 'Localisation']].isnull().sum())"
   ]
  },
  {
   "cell_type": "markdown",
   "metadata": {},
   "source": [
    "Handling outliers in 'Price'"
   ]
  },
  {
   "cell_type": "code",
   "execution_count": 5,
   "metadata": {},
   "outputs": [
    {
     "name": "stdout",
     "output_type": "stream",
     "text": [
      "Missing values per column:\n",
      "Region           0\n",
      "Localisation     0\n",
      "Type             0\n",
      "Nature          13\n",
      "Area             0\n",
      "#Bathrooms       0\n",
      "#Bedrooms        0\n",
      "Price            0\n",
      "dtype: int64\n"
     ]
    }
   ],
   "source": [
    "# Remove ouliers based on visualizations\n",
    "df['Price'] = df['Price'].clip(upper=df['Price'].quantile(0.99))\n",
    "\n",
    "# Drop rows with missing 'Price' and duplicates\n",
    "df = df.dropna(subset=['Price']).copy()\n",
    "df.drop_duplicates(inplace=True)\n",
    "df.reset_index(drop=True, inplace=True)\n",
    "\n",
    "# Check for remaining missing values\n",
    "print(\"Missing values per column:\")\n",
    "print(df.isnull().sum())"
   ]
  },
  {
   "cell_type": "code",
   "execution_count": 6,
   "metadata": {},
   "outputs": [
    {
     "name": "stdout",
     "output_type": "stream",
     "text": [
      "Area Quantiles:\n",
      "0.022      70.00\n",
      "0.530     350.00\n",
      "0.980    1474.76\n",
      "Name: Area, dtype: float64\n",
      "#Bedrooms Quantiles:\n",
      "0.0013    1.0\n",
      "0.5000    4.0\n",
      "0.9700    9.0\n",
      "Name: #Bedrooms, dtype: float64\n",
      "#Bathrooms Quantiles:\n",
      "0.0013    1.0\n",
      "0.5000    2.0\n",
      "0.9500    5.0\n",
      "Name: #Bathrooms, dtype: float64\n"
     ]
    }
   ],
   "source": [
    "# Quantile values for Area\n",
    "superficie_quantiles = df['Area'].quantile([0.022, 0.53, 0.98])\n",
    "print(\"Area Quantiles:\")\n",
    "print(superficie_quantiles)\n",
    "\n",
    "# Quantile values for Bedrooms\n",
    "nb_chambres_quantiles = df['#Bedrooms'].quantile([0.0013, 0.5, 0.97])\n",
    "print(\"#Bedrooms Quantiles:\")\n",
    "print(nb_chambres_quantiles)\n",
    "\n",
    "# Quantile values for Bathrooms\n",
    "nb_salles_de_bain_quantiles = df['#Bathrooms'].quantile([0.0013, 0.5, 0.95])\n",
    "print(\"#Bathrooms Quantiles:\")\n",
    "print(nb_salles_de_bain_quantiles)"
   ]
  },
  {
   "cell_type": "code",
   "execution_count": 7,
   "metadata": {},
   "outputs": [],
   "source": [
    "df = df[\n",
    "    (df['Area'] >= superficie_quantiles[0.022]) & \n",
    "    (df['Area'] <= superficie_quantiles[0.98]) & \n",
    "    (df['#Bedrooms'] >= nb_chambres_quantiles[0.0013]) & \n",
    "    (df['#Bedrooms'] <= nb_chambres_quantiles[0.97]) & \n",
    "    (df['#Bathrooms'] >= nb_salles_de_bain_quantiles[0.0013]) & \n",
    "    (df['#Bedrooms'] <= nb_salles_de_bain_quantiles[0.95])\n",
    "]"
   ]
  },
  {
   "cell_type": "code",
   "execution_count": 19,
   "metadata": {},
   "outputs": [
    {
     "name": "stdout",
     "output_type": "stream",
     "text": [
      "Missing values per column:\n",
      "Region        0\n",
      "Type          0\n",
      "Area          0\n",
      "#Bathrooms    0\n",
      "#Bedrooms     0\n",
      "Price         0\n",
      "dtype: int64\n"
     ]
    }
   ],
   "source": [
    "# Drop rows where 'Nature' is 'À louer' then drop the column (all rows are 'À Vendre')\n",
    "df = df[df['Nature'] != 'À Louer'].copy()\n",
    "df = df.drop(columns=['Nature'])\n",
    "\n",
    "df = df.dropna().copy()\n",
    "df.drop_duplicates(inplace=True)\n",
    "df.reset_index(drop=True, inplace=True)\n",
    "\n",
    "# Check for remaining missing values\n",
    "print(\"Missing values per column:\")\n",
    "print(df.isnull().sum())"
   ]
  },
  {
   "cell_type": "code",
   "execution_count": 13,
   "metadata": {},
   "outputs": [
    {
     "name": "stdout",
     "output_type": "stream",
     "text": [
      "Unique values in 'Region':\n",
      "['Ariana' 'Nabeul' 'La Manouba' 'Ben Arous' 'Bizerte' 'Tunis' 'Sfax'\n",
      " 'Monastir' 'Sousse' 'Médenine' 'Gafsa' 'Jendouba' 'Le Kef' 'Kairouan'\n",
      " 'Mahdia' 'Gabès' 'Zaghouan' 'Siliana' 'Béja' 'Kasserine' 'Sidi Bouzid'\n",
      " 'Tozeur']\n",
      "\n",
      "Unique values in 'Localisation':\n",
      "['Ariana' 'Nabeul' 'La_Manouba' 'Ben_Arous' 'Bizerte' 'Tunis' 'Sfax'\n",
      " 'Monastir' 'Sousse' 'Mdenine' 'Gafsa' 'Jendouba' 'Le_Kef' 'Kairouan'\n",
      " 'Mahdia' 'Gabs' 'Zaghouan' 'Siliana' 'Bja' 'Kasserine' 'Sidi_Bouzid'\n",
      " 'Tozeur']\n"
     ]
    }
   ],
   "source": [
    "print(\"Unique values in 'Region':\")\n",
    "print(df['Region'].unique())\n",
    "\n",
    "print(\"\\nUnique values in 'Localisation':\")\n",
    "print(df['Localisation'].unique())"
   ]
  },
  {
   "cell_type": "code",
   "execution_count": null,
   "metadata": {},
   "outputs": [
    {
     "name": "stderr",
     "output_type": "stream",
     "text": [
      "100%|██████████| 6/6 [00:00<00:00, 340.71it/s]0<00:00,  8.08it/s, Describe variable: Price]\n",
      "Summarize dataset: 100%|██████████| 24/24 [00:03<00:00,  6.41it/s, Completed]                     \n",
      "Generate report structure: 100%|██████████| 1/1 [00:03<00:00,  3.62s/it]\n",
      "Render HTML: 100%|██████████| 1/1 [00:01<00:00,  1.47s/it]\n",
      "Export report to file: 100%|██████████| 1/1 [00:00<00:00, 73.84it/s]\n"
     ]
    }
   ],
   "source": [
    "df = df.drop(columns=['Localisation'])\n",
    "\n",
    "df.to_csv('data/final_data.csv', index=False)\n",
    "profile = ProfileReport(df, title=\"Profiling Report\", explorative=True)\n",
    "profile.to_file(\"data/immobiliers_report_after_cleaning.html\")"
   ]
  }
 ],
 "metadata": {
  "kernelspec": {
   "display_name": "Python 3",
   "language": "python",
   "name": "python3"
  },
  "language_info": {
   "codemirror_mode": {
    "name": "ipython",
    "version": 3
   },
   "file_extension": ".py",
   "mimetype": "text/x-python",
   "name": "python",
   "nbconvert_exporter": "python",
   "pygments_lexer": "ipython3",
   "version": "3.10.0"
  }
 },
 "nbformat": 4,
 "nbformat_minor": 2
}
