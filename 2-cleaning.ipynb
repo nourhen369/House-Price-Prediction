{
 "cells": [
  {
   "cell_type": "code",
   "execution_count": 2,
   "metadata": {},
   "outputs": [],
   "source": [
    "import pandas as pd\n",
    "import re\n",
    "import seaborn as sns\n",
    "import matplotlib.pyplot as plt\n",
    "import numpy as np"
   ]
  },
  {
   "cell_type": "code",
   "execution_count": null,
   "metadata": {},
   "outputs": [],
   "source": [
    "df = pd.read_csv('immobiliers.csv')"
   ]
  },
  {
   "cell_type": "code",
   "execution_count": null,
   "metadata": {},
   "outputs": [],
   "source": [
    "df.head()"
   ]
  },
  {
   "cell_type": "code",
   "execution_count": null,
   "metadata": {},
   "outputs": [],
   "source": [
    "# on ne s'interesse que sur les biens à vendre\n",
    "# execute right after reading the csv, marra wahda barka\n",
    "df = df[df['Type de transaction'] == 'À Vendre']\n",
    "df = df.drop(columns=['Type de transaction'])\n",
    "df.reset_index(drop=True, inplace=True)\n",
    "print(df.info())"
   ]
  },
  {
   "cell_type": "code",
   "execution_count": null,
   "metadata": {},
   "outputs": [],
   "source": [
    "condition1 = df[(df['Configuration des pièces'].notna()) & (df['Chambres']=='False')]\n",
    "# print(condition1.shape)\n",
    "# 11 row où nb chambres n'est affiché que dans l'annonce\n",
    "\n",
    "# Extraire le nombre de pièces de 'Configuration des pièces' et l'attribuer à 'Chambres'\n",
    "for idx, row in condition1.iterrows():\n",
    "    config_pieces = row['Configuration des pièces']\n",
    "    match = re.search(r'S\\+(\\d+)', config_pieces)\n",
    "    if match:\n",
    "        df.at[idx, 'Chambres'] = int(match.group(1))\n",
    "\n",
    "df = df.drop(columns=['Configuration des pièces']) # on n'en a plus besoin\n",
    "df.tail()"
   ]
  },
  {
   "cell_type": "code",
   "execution_count": null,
   "metadata": {},
   "outputs": [],
   "source": [
    "# Remplacer toutes les valeurs 'False' dans les colonnes 'Superficie' et 'Chambres' par NaN\n",
    "df['Superficie'] = df['Superficie'].replace(['False'], np.nan)\n",
    "df['Chambres'] = df['Chambres'].replace(['False'], np.nan)\n",
    "\n",
    "# Remplacer toutes les valeurs 'False' dans la colonne \"Salles de bains\" par la valeur par défaut 1\n",
    "df['Salles de bains'].replace('False', 1, inplace=True)\n",
    "\n",
    "df['Prix'] = pd.to_numeric(df['Prix'], errors='coerce') # convertir en numérique"
   ]
  },
  {
   "cell_type": "code",
   "execution_count": null,
   "metadata": {},
   "outputs": [],
   "source": [
    "df.tail()"
   ]
  },
  {
   "cell_type": "code",
   "execution_count": null,
   "metadata": {},
   "outputs": [],
   "source": [
    "plt.figure(figsize=(6, 4))\n",
    "sns.heatmap(df.isnull(), cbar=False, cmap='viridis')\n",
    "plt.title(\"Missing Values Heatmap\")\n",
    "plt.show()"
   ]
  },
  {
   "cell_type": "code",
   "execution_count": null,
   "metadata": {},
   "outputs": [],
   "source": [
    "# On s'interesse dans cette partie aux valeurs manquantes dans la colonne type de biens\n",
    "print(\"Value counts for 'Type de bien':\\n\", df['Type de bien'].value_counts())\n",
    "print(\"Missing values in 'Type de bien' column: \", df['Type de bien'].isnull().sum())"
   ]
  },
  {
   "cell_type": "code",
   "execution_count": 9,
   "metadata": {},
   "outputs": [],
   "source": [
    "keywords = {\n",
    "    'appartement': 'Appartement',\n",
    "    'villa': 'Villa',\n",
    "    'maison': 'Maison'\n",
    "}\n",
    "# chercher dans les annonces les keywords qui nous interessent\n",
    "for keyword, replacement in keywords.items():\n",
    "    condition = df['Annonce'].str.contains(keyword, case=False, na=False)\n",
    "    df.loc[condition & df['Type de bien'].isna(), 'Type de bien'] = replacement"
   ]
  },
  {
   "cell_type": "code",
   "execution_count": 10,
   "metadata": {},
   "outputs": [],
   "source": [
    "# suite aux observations, les données non labelisées correspondent à des appartements\n",
    "df.loc[df['Type de bien'].isna() & df['Chambres'].notna(), 'Type de bien'] = 'Appartement'"
   ]
  },
  {
   "cell_type": "code",
   "execution_count": null,
   "metadata": {},
   "outputs": [],
   "source": [
    "# verification\n",
    "print(\"Value counts for 'Type de bien':\\n\", df['Type de bien'].value_counts())\n",
    "print(\"Missing values in 'Type de bien' column: \", df['Type de bien'].isnull().sum())"
   ]
  },
  {
   "cell_type": "code",
   "execution_count": 12,
   "metadata": {},
   "outputs": [],
   "source": [
    "# Apres la visualtion des nvlles données, on a remarqué que les données \n",
    "# manquantes restantes dans la colonne 'Type de bien' sont des\n",
    "# biens commerciaux dont on n'aura pas besoin reellement\n",
    "\n",
    "# Garder uniquement les lignes où 'Type de bien' est 'appartement', 'maison', ou 'villa'\n",
    "df = df[df['Type de bien'].isin(['Appartement', 'Maison', 'Villa'])]\n",
    "\n",
    "df = df.drop(columns=['Annonce']) # on n'en a plus besoin"
   ]
  },
  {
   "cell_type": "code",
   "execution_count": null,
   "metadata": {},
   "outputs": [],
   "source": [
    "df.head()"
   ]
  },
  {
   "cell_type": "code",
   "execution_count": null,
   "metadata": {},
   "outputs": [],
   "source": [
    "q99 = df['Prix'].quantile(0.99)\n",
    "filtered_df = df[df['Prix'] <= q99]\n",
    "\n",
    "sns.boxplot(x='Type de bien', y='Prix', data=filtered_df)\n",
    "plt.title(\"Répartition des prix par type de bien\")\n",
    "plt.xlabel(\"Type de bien\")\n",
    "plt.ylabel(\"Prix\")\n",
    "plt.show()"
   ]
  },
  {
   "cell_type": "code",
   "execution_count": null,
   "metadata": {},
   "outputs": [],
   "source": [
    "# Imputation basée sur la médiane des prix groupée par Localisation, Nombre de chambres, et Type de bien\n",
    "df['Prix'] = df.groupby(['Localisation', 'Chambres', 'Type de bien'])['Prix'].transform(\n",
    "    lambda x: x.fillna(x.median())\n",
    ")\n",
    "df['Prix'] = df.groupby(['Localisation', 'Chambres'])['Prix'].transform(\n",
    "    lambda x: x.fillna(x.median())\n",
    ")"
   ]
  },
  {
   "cell_type": "code",
   "execution_count": null,
   "metadata": {},
   "outputs": [],
   "source": [
    "plt.figure(figsize=(6, 4))\n",
    "sns.heatmap(df.isnull(), cbar=False, cmap='viridis')\n",
    "plt.title(\"Missing Values Heatmap\")\n",
    "plt.show()"
   ]
  },
  {
   "cell_type": "code",
   "execution_count": 27,
   "metadata": {},
   "outputs": [],
   "source": [
    "# supprimer les annonces sans détails\n",
    "df.dropna(subset=['Prix', 'Chambres', 'Superficie'], inplace=True)"
   ]
  },
  {
   "cell_type": "code",
   "execution_count": 28,
   "metadata": {},
   "outputs": [],
   "source": [
    "# garder que l'intervalle logique du nombre de chambres\n",
    "df['Chambres'] = pd.to_numeric(df['Chambres'], errors='coerce')\n",
    "df = df[(df['Chambres'] >= 0) & (df['Chambres'] <= 14)]\n",
    "# print(df['Chambres'].unique())"
   ]
  },
  {
   "cell_type": "code",
   "execution_count": 29,
   "metadata": {},
   "outputs": [],
   "source": [
    "df.to_csv('cleaned_immobiliers.csv', index=False, encoding='utf-8')"
   ]
  },
  {
   "cell_type": "code",
   "execution_count": null,
   "metadata": {},
   "outputs": [],
   "source": []
  }
 ],
 "metadata": {
  "kernelspec": {
   "display_name": "Python 3",
   "language": "python",
   "name": "python3"
  },
  "language_info": {
   "codemirror_mode": {
    "name": "ipython",
    "version": 3
   },
   "file_extension": ".py",
   "mimetype": "text/x-python",
   "name": "python",
   "nbconvert_exporter": "python",
   "pygments_lexer": "ipython3",
   "version": "3.12.6"
  }
 },
 "nbformat": 4,
 "nbformat_minor": 2
}
