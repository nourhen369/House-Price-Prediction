{
 "cells": [
  {
   "cell_type": "code",
   "execution_count": 15,
   "id": "018e17d9",
   "metadata": {},
   "outputs": [],
   "source": [
    "import pandas as pd\n",
    "import numpy as np\n",
    "import seaborn as sns"
   ]
  },
  {
   "cell_type": "code",
   "execution_count": 18,
   "id": "48b28da1",
   "metadata": {},
   "outputs": [],
   "source": [
    "df = pd.read_csv('data/final_data.csv')\n",
    "\n",
    "# Feature Engineering\n",
    "df['Area_x_Bathrooms'] = df['Area'] * df['#Bathrooms']\n",
    "df['Log_Area'] = np.log1p(df['Area'])\n",
    "df['Log_Price'] = np.log1p(df['Price'])\n",
    "df = df.dropna(subset=['Log_Price'])\n",
    "if '#Bedrooms' in df.columns and (df['#Bedrooms'] > 0).all():\n",
    "    df['Bathrooms_per_Bedroom'] = df['#Bathrooms'] / df['#Bedrooms']\n",
    "else:\n",
    "    df['Bathrooms_per_Bedroom'] = np.nan\n",
    "df = df.drop(columns=['Area', '#Bathrooms', 'Price'], errors='ignore')\n",
    "\n",
    "# Clean and convert categorical columns for PyCaret\n",
    "categorical_cols = df.select_dtypes(include=['object']).columns\n",
    "for col in categorical_cols:\n",
    "    df[col] = df[col].str.replace(' ', '_')  # Replace spaces with underscores in values\n",
    "    df[col] = df[col].astype('category')"
   ]
  },
  {
   "cell_type": "code",
   "execution_count": null,
   "id": "aa321000",
   "metadata": {},
   "outputs": [],
   "source": [
    "from pycaret.regression import setup, compare_models\n",
    "\n",
    "reg_setup = setup(\n",
    "    data=df,\n",
    "    target='Log_Price',\n",
    "    session_id=123,\n",
    "    feature_selection=True,\n",
    "    pca=True,                # Enable PCA\n",
    "    pca_components=0.95,     # Keep enough components to explain 95% variance\n",
    "    normalize=True,          # Normalize the data\n",
    "    verbose=False\n",
    ")\n",
    "\n",
    "best_model = compare_models()"
   ]
  },
  {
   "cell_type": "code",
   "execution_count": 4,
   "id": "79521cee",
   "metadata": {},
   "outputs": [
    {
     "data": {
      "text/html": [],
      "text/plain": [
       "<IPython.core.display.HTML object>"
      ]
     },
     "metadata": {},
     "output_type": "display_data"
    },
    {
     "data": {
      "text/html": [
       "<style type=\"text/css\">\n",
       "#T_d1d70_row10_col0, #T_d1d70_row10_col1, #T_d1d70_row10_col2, #T_d1d70_row10_col3, #T_d1d70_row10_col4, #T_d1d70_row10_col5 {\n",
       "  background: yellow;\n",
       "}\n",
       "</style>\n",
       "<table id=\"T_d1d70\">\n",
       "  <thead>\n",
       "    <tr>\n",
       "      <th class=\"blank level0\" >&nbsp;</th>\n",
       "      <th id=\"T_d1d70_level0_col0\" class=\"col_heading level0 col0\" >MAE</th>\n",
       "      <th id=\"T_d1d70_level0_col1\" class=\"col_heading level0 col1\" >MSE</th>\n",
       "      <th id=\"T_d1d70_level0_col2\" class=\"col_heading level0 col2\" >RMSE</th>\n",
       "      <th id=\"T_d1d70_level0_col3\" class=\"col_heading level0 col3\" >R2</th>\n",
       "      <th id=\"T_d1d70_level0_col4\" class=\"col_heading level0 col4\" >RMSLE</th>\n",
       "      <th id=\"T_d1d70_level0_col5\" class=\"col_heading level0 col5\" >MAPE</th>\n",
       "    </tr>\n",
       "    <tr>\n",
       "      <th class=\"index_name level0\" >Fold</th>\n",
       "      <th class=\"blank col0\" >&nbsp;</th>\n",
       "      <th class=\"blank col1\" >&nbsp;</th>\n",
       "      <th class=\"blank col2\" >&nbsp;</th>\n",
       "      <th class=\"blank col3\" >&nbsp;</th>\n",
       "      <th class=\"blank col4\" >&nbsp;</th>\n",
       "      <th class=\"blank col5\" >&nbsp;</th>\n",
       "    </tr>\n",
       "  </thead>\n",
       "  <tbody>\n",
       "    <tr>\n",
       "      <th id=\"T_d1d70_level0_row0\" class=\"row_heading level0 row0\" >0</th>\n",
       "      <td id=\"T_d1d70_row0_col0\" class=\"data row0 col0\" >0.4156</td>\n",
       "      <td id=\"T_d1d70_row0_col1\" class=\"data row0 col1\" >0.2709</td>\n",
       "      <td id=\"T_d1d70_row0_col2\" class=\"data row0 col2\" >0.5205</td>\n",
       "      <td id=\"T_d1d70_row0_col3\" class=\"data row0 col3\" >0.3549</td>\n",
       "      <td id=\"T_d1d70_row0_col4\" class=\"data row0 col4\" >0.0365</td>\n",
       "      <td id=\"T_d1d70_row0_col5\" class=\"data row0 col5\" >0.0312</td>\n",
       "    </tr>\n",
       "    <tr>\n",
       "      <th id=\"T_d1d70_level0_row1\" class=\"row_heading level0 row1\" >1</th>\n",
       "      <td id=\"T_d1d70_row1_col0\" class=\"data row1 col0\" >0.6063</td>\n",
       "      <td id=\"T_d1d70_row1_col1\" class=\"data row1 col1\" >0.5024</td>\n",
       "      <td id=\"T_d1d70_row1_col2\" class=\"data row1 col2\" >0.7088</td>\n",
       "      <td id=\"T_d1d70_row1_col3\" class=\"data row1 col3\" >0.1944</td>\n",
       "      <td id=\"T_d1d70_row1_col4\" class=\"data row1 col4\" >0.0507</td>\n",
       "      <td id=\"T_d1d70_row1_col5\" class=\"data row1 col5\" >0.0472</td>\n",
       "    </tr>\n",
       "    <tr>\n",
       "      <th id=\"T_d1d70_level0_row2\" class=\"row_heading level0 row2\" >2</th>\n",
       "      <td id=\"T_d1d70_row2_col0\" class=\"data row2 col0\" >0.5717</td>\n",
       "      <td id=\"T_d1d70_row2_col1\" class=\"data row2 col1\" >0.5644</td>\n",
       "      <td id=\"T_d1d70_row2_col2\" class=\"data row2 col2\" >0.7513</td>\n",
       "      <td id=\"T_d1d70_row2_col3\" class=\"data row2 col3\" >0.1417</td>\n",
       "      <td id=\"T_d1d70_row2_col4\" class=\"data row2 col4\" >0.0522</td>\n",
       "      <td id=\"T_d1d70_row2_col5\" class=\"data row2 col5\" >0.0430</td>\n",
       "    </tr>\n",
       "    <tr>\n",
       "      <th id=\"T_d1d70_level0_row3\" class=\"row_heading level0 row3\" >3</th>\n",
       "      <td id=\"T_d1d70_row3_col0\" class=\"data row3 col0\" >0.3988</td>\n",
       "      <td id=\"T_d1d70_row3_col1\" class=\"data row3 col1\" >0.2666</td>\n",
       "      <td id=\"T_d1d70_row3_col2\" class=\"data row3 col2\" >0.5163</td>\n",
       "      <td id=\"T_d1d70_row3_col3\" class=\"data row3 col3\" >0.4302</td>\n",
       "      <td id=\"T_d1d70_row3_col4\" class=\"data row3 col4\" >0.0368</td>\n",
       "      <td id=\"T_d1d70_row3_col5\" class=\"data row3 col5\" >0.0307</td>\n",
       "    </tr>\n",
       "    <tr>\n",
       "      <th id=\"T_d1d70_level0_row4\" class=\"row_heading level0 row4\" >4</th>\n",
       "      <td id=\"T_d1d70_row4_col0\" class=\"data row4 col0\" >0.4949</td>\n",
       "      <td id=\"T_d1d70_row4_col1\" class=\"data row4 col1\" >0.4009</td>\n",
       "      <td id=\"T_d1d70_row4_col2\" class=\"data row4 col2\" >0.6332</td>\n",
       "      <td id=\"T_d1d70_row4_col3\" class=\"data row4 col3\" >0.3387</td>\n",
       "      <td id=\"T_d1d70_row4_col4\" class=\"data row4 col4\" >0.0446</td>\n",
       "      <td id=\"T_d1d70_row4_col5\" class=\"data row4 col5\" >0.0378</td>\n",
       "    </tr>\n",
       "    <tr>\n",
       "      <th id=\"T_d1d70_level0_row5\" class=\"row_heading level0 row5\" >5</th>\n",
       "      <td id=\"T_d1d70_row5_col0\" class=\"data row5 col0\" >0.6218</td>\n",
       "      <td id=\"T_d1d70_row5_col1\" class=\"data row5 col1\" >0.5773</td>\n",
       "      <td id=\"T_d1d70_row5_col2\" class=\"data row5 col2\" >0.7598</td>\n",
       "      <td id=\"T_d1d70_row5_col3\" class=\"data row5 col3\" >0.1795</td>\n",
       "      <td id=\"T_d1d70_row5_col4\" class=\"data row5 col4\" >0.0534</td>\n",
       "      <td id=\"T_d1d70_row5_col5\" class=\"data row5 col5\" >0.0476</td>\n",
       "    </tr>\n",
       "    <tr>\n",
       "      <th id=\"T_d1d70_level0_row6\" class=\"row_heading level0 row6\" >6</th>\n",
       "      <td id=\"T_d1d70_row6_col0\" class=\"data row6 col0\" >0.4668</td>\n",
       "      <td id=\"T_d1d70_row6_col1\" class=\"data row6 col1\" >0.2963</td>\n",
       "      <td id=\"T_d1d70_row6_col2\" class=\"data row6 col2\" >0.5444</td>\n",
       "      <td id=\"T_d1d70_row6_col3\" class=\"data row6 col3\" >0.2562</td>\n",
       "      <td id=\"T_d1d70_row6_col4\" class=\"data row6 col4\" >0.0387</td>\n",
       "      <td id=\"T_d1d70_row6_col5\" class=\"data row6 col5\" >0.0360</td>\n",
       "    </tr>\n",
       "    <tr>\n",
       "      <th id=\"T_d1d70_level0_row7\" class=\"row_heading level0 row7\" >7</th>\n",
       "      <td id=\"T_d1d70_row7_col0\" class=\"data row7 col0\" >0.4940</td>\n",
       "      <td id=\"T_d1d70_row7_col1\" class=\"data row7 col1\" >0.3683</td>\n",
       "      <td id=\"T_d1d70_row7_col2\" class=\"data row7 col2\" >0.6069</td>\n",
       "      <td id=\"T_d1d70_row7_col3\" class=\"data row7 col3\" >0.2807</td>\n",
       "      <td id=\"T_d1d70_row7_col4\" class=\"data row7 col4\" >0.0432</td>\n",
       "      <td id=\"T_d1d70_row7_col5\" class=\"data row7 col5\" >0.0382</td>\n",
       "    </tr>\n",
       "    <tr>\n",
       "      <th id=\"T_d1d70_level0_row8\" class=\"row_heading level0 row8\" >8</th>\n",
       "      <td id=\"T_d1d70_row8_col0\" class=\"data row8 col0\" >0.3419</td>\n",
       "      <td id=\"T_d1d70_row8_col1\" class=\"data row8 col1\" >0.2141</td>\n",
       "      <td id=\"T_d1d70_row8_col2\" class=\"data row8 col2\" >0.4627</td>\n",
       "      <td id=\"T_d1d70_row8_col3\" class=\"data row8 col3\" >0.5806</td>\n",
       "      <td id=\"T_d1d70_row8_col4\" class=\"data row8 col4\" >0.0324</td>\n",
       "      <td id=\"T_d1d70_row8_col5\" class=\"data row8 col5\" >0.0258</td>\n",
       "    </tr>\n",
       "    <tr>\n",
       "      <th id=\"T_d1d70_level0_row9\" class=\"row_heading level0 row9\" >9</th>\n",
       "      <td id=\"T_d1d70_row9_col0\" class=\"data row9 col0\" >0.4174</td>\n",
       "      <td id=\"T_d1d70_row9_col1\" class=\"data row9 col1\" >0.3099</td>\n",
       "      <td id=\"T_d1d70_row9_col2\" class=\"data row9 col2\" >0.5567</td>\n",
       "      <td id=\"T_d1d70_row9_col3\" class=\"data row9 col3\" >0.4770</td>\n",
       "      <td id=\"T_d1d70_row9_col4\" class=\"data row9 col4\" >0.0387</td>\n",
       "      <td id=\"T_d1d70_row9_col5\" class=\"data row9 col5\" >0.0312</td>\n",
       "    </tr>\n",
       "    <tr>\n",
       "      <th id=\"T_d1d70_level0_row10\" class=\"row_heading level0 row10\" >Mean</th>\n",
       "      <td id=\"T_d1d70_row10_col0\" class=\"data row10 col0\" >0.4829</td>\n",
       "      <td id=\"T_d1d70_row10_col1\" class=\"data row10 col1\" >0.3771</td>\n",
       "      <td id=\"T_d1d70_row10_col2\" class=\"data row10 col2\" >0.6061</td>\n",
       "      <td id=\"T_d1d70_row10_col3\" class=\"data row10 col3\" >0.3234</td>\n",
       "      <td id=\"T_d1d70_row10_col4\" class=\"data row10 col4\" >0.0427</td>\n",
       "      <td id=\"T_d1d70_row10_col5\" class=\"data row10 col5\" >0.0369</td>\n",
       "    </tr>\n",
       "    <tr>\n",
       "      <th id=\"T_d1d70_level0_row11\" class=\"row_heading level0 row11\" >Std</th>\n",
       "      <td id=\"T_d1d70_row11_col0\" class=\"data row11 col0\" >0.0887</td>\n",
       "      <td id=\"T_d1d70_row11_col1\" class=\"data row11 col1\" >0.1235</td>\n",
       "      <td id=\"T_d1d70_row11_col2\" class=\"data row11 col2\" >0.0991</td>\n",
       "      <td id=\"T_d1d70_row11_col3\" class=\"data row11 col3\" >0.1338</td>\n",
       "      <td id=\"T_d1d70_row11_col4\" class=\"data row11 col4\" >0.0070</td>\n",
       "      <td id=\"T_d1d70_row11_col5\" class=\"data row11 col5\" >0.0070</td>\n",
       "    </tr>\n",
       "  </tbody>\n",
       "</table>\n"
      ],
      "text/plain": [
       "<pandas.io.formats.style.Styler at 0x1e2616233d0>"
      ]
     },
     "metadata": {},
     "output_type": "display_data"
    },
    {
     "data": {
      "text/html": [],
      "text/plain": [
       "<IPython.core.display.HTML object>"
      ]
     },
     "metadata": {},
     "output_type": "display_data"
    },
    {
     "name": "stdout",
     "output_type": "stream",
     "text": [
      "Fitting 10 folds for each of 10 candidates, totalling 100 fits\n"
     ]
    },
    {
     "data": {
      "application/vnd.jupyter.widget-view+json": {
       "model_id": "f7e2f630f41c49b89cbd8487ed0d45db",
       "version_major": 2,
       "version_minor": 0
      },
      "text/plain": [
       "interactive(children=(ToggleButtons(description='Plot Type:', icons=('',), options=(('Pipeline Plot', 'pipelin…"
      ]
     },
     "metadata": {},
     "output_type": "display_data"
    },
    {
     "data": {
      "text/html": [
       "<style type=\"text/css\">\n",
       "</style>\n",
       "<table id=\"T_7219f\">\n",
       "  <thead>\n",
       "    <tr>\n",
       "      <th class=\"blank level0\" >&nbsp;</th>\n",
       "      <th id=\"T_7219f_level0_col0\" class=\"col_heading level0 col0\" >Model</th>\n",
       "      <th id=\"T_7219f_level0_col1\" class=\"col_heading level0 col1\" >MAE</th>\n",
       "      <th id=\"T_7219f_level0_col2\" class=\"col_heading level0 col2\" >MSE</th>\n",
       "      <th id=\"T_7219f_level0_col3\" class=\"col_heading level0 col3\" >RMSE</th>\n",
       "      <th id=\"T_7219f_level0_col4\" class=\"col_heading level0 col4\" >R2</th>\n",
       "      <th id=\"T_7219f_level0_col5\" class=\"col_heading level0 col5\" >RMSLE</th>\n",
       "      <th id=\"T_7219f_level0_col6\" class=\"col_heading level0 col6\" >MAPE</th>\n",
       "    </tr>\n",
       "  </thead>\n",
       "  <tbody>\n",
       "    <tr>\n",
       "      <th id=\"T_7219f_level0_row0\" class=\"row_heading level0 row0\" >0</th>\n",
       "      <td id=\"T_7219f_row0_col0\" class=\"data row0 col0\" >AdaBoost Regressor</td>\n",
       "      <td id=\"T_7219f_row0_col1\" class=\"data row0 col1\" >0.4829</td>\n",
       "      <td id=\"T_7219f_row0_col2\" class=\"data row0 col2\" >0.3788</td>\n",
       "      <td id=\"T_7219f_row0_col3\" class=\"data row0 col3\" >0.6154</td>\n",
       "      <td id=\"T_7219f_row0_col4\" class=\"data row0 col4\" >0.3031</td>\n",
       "      <td id=\"T_7219f_row0_col5\" class=\"data row0 col5\" >0.0434</td>\n",
       "      <td id=\"T_7219f_row0_col6\" class=\"data row0 col6\" >0.0368</td>\n",
       "    </tr>\n",
       "  </tbody>\n",
       "</table>\n"
      ],
      "text/plain": [
       "<pandas.io.formats.style.Styler at 0x1e206ce1c90>"
      ]
     },
     "metadata": {},
     "output_type": "display_data"
    },
    {
     "name": "stdout",
     "output_type": "stream",
     "text": [
      "   Predicted Price  Region         Type  #Bedrooms  Area_x_Bathrooms  \\\n",
      "0        1,405,808  Ariana        Villa          4               900   \n",
      "1        2,150,010   Tunis        Villa          5             6,600   \n",
      "2          730,500  Nabeul        Villa          4               600   \n",
      "3          858,039   Tunis        Villa          5             1,000   \n",
      "4          246,875   Tunis  Appartement          1               400   \n",
      "5          336,198   Tunis  Appartement          3               400   \n",
      "6          714,272   Tunis        Villa          5             3,099   \n",
      "7          645,825   Tunis        Villa          4             1,236   \n",
      "8          863,230  Sousse        Villa          5             2,000   \n",
      "9          684,974  Sousse        Villa          4             4,444   \n",
      "\n",
      "   Log_Area  Bathrooms_per_Bedroom  \n",
      "0         6                      0  \n",
      "1         7                      1  \n",
      "2         6                      0  \n",
      "3         6                      0  \n",
      "4         6                      1  \n",
      "5         6                      0  \n",
      "6         7                      1  \n",
      "7         6                      1  \n",
      "8         7                      0  \n",
      "9         7                      1  \n"
     ]
    }
   ],
   "source": [
    "from pycaret.regression import predict_model, tune_model, evaluate_model\n",
    "\n",
    "# Fine-tune the best model\n",
    "tuned_model = tune_model(best_model, optimize='R2')  \n",
    "evaluate_model(tuned_model)\n",
    "\n",
    "# Predict using PyCaret's pipeline\n",
    "predictions = predict_model(best_model, data=df)\n",
    "price_pred = np.expm1(predictions['prediction_label'])\n",
    "result = df.reset_index(drop=True).copy()\n",
    "result['Predicted Price'] = price_pred\n",
    "\n",
    "# Display the first 10 rows with related info and formatted price\n",
    "pd.options.display.float_format = '{:,.0f}'.format\n",
    "print(result.head(10)[['Predicted Price'] + [col for col in ['Region', 'Type', '#Bedrooms', 'Area_x_Bathrooms', 'Log_Area','Bathrooms_per_Bedroom']]])"
   ]
  },
  {
   "cell_type": "markdown",
   "id": "620c5563",
   "metadata": {},
   "source": [
    "Implementing XGBoost"
   ]
  },
  {
   "cell_type": "code",
   "execution_count": 19,
   "id": "49bd6fe6",
   "metadata": {},
   "outputs": [],
   "source": [
    "from sklearn.metrics import make_scorer, mean_squared_error, mean_absolute_error, r2_score\n",
    "\n",
    "# Define custom scorers for cross-validation\n",
    "def rmse(y_true, y_pred):\n",
    "    return np.sqrt(mean_squared_error(np.expm1(y_true), np.expm1(y_pred)))\n",
    "\n",
    "def mape(y_true, y_pred):\n",
    "    return np.mean(np.abs((np.expm1(y_true) - np.expm1(y_pred)) / np.expm1(y_true)))\n",
    "\n",
    "rmse_scorer = make_scorer(rmse, greater_is_better=False)\n",
    "mape_scorer = make_scorer(mape, greater_is_better=False)\n",
    "r2_scorer = make_scorer(r2_score)"
   ]
  },
  {
   "cell_type": "code",
   "execution_count": null,
   "id": "1ba1f22b",
   "metadata": {},
   "outputs": [
    {
     "name": "stdout",
     "output_type": "stream",
     "text": [
      "CV RMSE: 527,559.55 (+/- 107,521.41)\n",
      "CV MAPE: 0.42 (+/- 0.03)\n",
      "CV R2: 0.53 (+/- 0.04)\n"
     ]
    }
   ],
   "source": [
    "import xgboost as xgb\n",
    "from sklearn.model_selection import train_test_split\n",
    "from sklearn.model_selection import cross_val_score, KFold\n",
    "\n",
    "df = pd.read_csv('data/final_data.csv')\n",
    "\n",
    "# Feature Engineering and Logarithmic transformations\n",
    "df['Area_x_Bathrooms'] = df['Area'] * df['#Bathrooms']\n",
    "df['Log_Area'] = np.log1p(df['Area'])\n",
    "df['Log_Price'] = np.log1p(df['Price'])\n",
    "if '#Bedrooms' in df.columns and (df['#Bedrooms'] > 0).all():\n",
    "    df['Bathrooms_per_Bedroom'] = df['#Bathrooms'] / df['#Bedrooms']\n",
    "else:\n",
    "    df['Bathrooms_per_Bedroom'] = np.nan\n",
    "\n",
    "# Convert categorical columns to category dtype\n",
    "df['Region'] = df['Region'].astype(str).str.replace(' ', '_').astype('category')\n",
    "df['Type'] = df['Type'].astype(str).str.replace(' ', '_').astype('category')\n",
    "\n",
    "# Prepare data for training\n",
    "X = df[['Region', 'Type', 'Area_x_Bathrooms', 'Log_Area', 'Bathrooms_per_Bedroom']].copy()\n",
    "y = df['Log_Price']\n",
    "\n",
    "# Split the data\n",
    "X_train, X_test, y_train, y_test = train_test_split(X, y, test_size=0.2, random_state=123)\n",
    "\n",
    "# Train the XGBoost model with categorical support\n",
    "model = xgb.XGBRegressor(\n",
    "    objective='reg:squarederror',\n",
    "    n_estimators=100,\n",
    "    learning_rate=0.1,\n",
    "    enable_categorical=True,\n",
    "    random_state=123\n",
    ")\n",
    "\n",
    "# Use KFold cross-validation\n",
    "kf = KFold(n_splits=5, shuffle=True, random_state=123)\n",
    "\n",
    "# Evaluate the model using cross-validation\n",
    "cv_rmse = cross_val_score(model, X, y, cv=kf, scoring=rmse_scorer)\n",
    "print(f'CV RMSE: {-np.mean(cv_rmse):,.2f} (+/- {np.std(cv_rmse):,.2f})')\n",
    "cv_mape = cross_val_score(model, X, y, cv=kf, scoring=mape_scorer)\n",
    "print(f'CV MAPE: {-np.mean(cv_mape):.2f} (+/- {np.std(cv_mape):.2f})')\n",
    "cv_r2 = cross_val_score(model, X, y, cv=kf, scoring=r2_scorer)\n",
    "print(f'CV R2: {np.mean(cv_r2):.2f} (+/- {np.std(cv_r2):.2f})')"
   ]
  }
 ],
 "metadata": {
  "kernelspec": {
   "display_name": "Python 3",
   "language": "python",
   "name": "python3"
  },
  "language_info": {
   "codemirror_mode": {
    "name": "ipython",
    "version": 3
   },
   "file_extension": ".py",
   "mimetype": "text/x-python",
   "name": "python",
   "nbconvert_exporter": "python",
   "pygments_lexer": "ipython3",
   "version": "3.10.0"
  }
 },
 "nbformat": 4,
 "nbformat_minor": 5
}
