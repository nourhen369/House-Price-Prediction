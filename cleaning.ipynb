{
 "cells": [
  {
   "cell_type": "code",
   "execution_count": 1,
   "metadata": {},
   "outputs": [],
   "source": [
    "import pandas as pd\n",
    "import re"
   ]
  },
  {
   "cell_type": "code",
   "execution_count": 2,
   "metadata": {},
   "outputs": [],
   "source": [
    "df = pd.read_csv('immobiliers.csv')"
   ]
  },
  {
   "cell_type": "code",
   "execution_count": 3,
   "metadata": {},
   "outputs": [
    {
     "name": "stdout",
     "output_type": "stream",
     "text": [
      "<class 'pandas.core.frame.DataFrame'>\n",
      "RangeIndex: 1649 entries, 0 to 1648\n",
      "Data columns (total 9 columns):\n",
      " #   Column                    Non-Null Count  Dtype  \n",
      "---  ------                    --------------  -----  \n",
      " 0   Annonce                   1649 non-null   object \n",
      " 1   Localisation              1649 non-null   object \n",
      " 2   Superficie                1649 non-null   object \n",
      " 3   Type de bien              197 non-null    object \n",
      " 4   Type de transaction       1649 non-null   object \n",
      " 5   Prix                      1430 non-null   float64\n",
      " 6   Configuration des pièces  567 non-null    object \n",
      " 7   Salles de bains           1649 non-null   object \n",
      " 8   Chambres                  1649 non-null   object \n",
      "dtypes: float64(1), object(8)\n",
      "memory usage: 116.1+ KB\n"
     ]
    }
   ],
   "source": [
    "df.info()"
   ]
  },
  {
   "cell_type": "code",
   "execution_count": 4,
   "metadata": {},
   "outputs": [
    {
     "name": "stdout",
     "output_type": "stream",
     "text": [
      "                                           Annonce Localisation Superficie  \\\n",
      "1644   Appartement (C2-8) en S+2 au deuxième étage         Sfax      False   \n",
      "1645   Appartement (C2-9) en S+2 au deuxième étage         Sfax      125.8   \n",
      "1646  Appartement (A4-9) en S+3 au quatrième étage         Sfax     183.21   \n",
      "1647   Appartement (C2-3) en S+3 au deuxième étage         Sfax     202.79   \n",
      "1648   Appartement (C2-6) en S+3 au deuxième étage         Sfax     191.02   \n",
      "\n",
      "     Type de bien      Prix Configuration des pièces Salles de bains Chambres  \n",
      "1644  Appartement  286269.0                      S+2           False    False  \n",
      "1645  Appartement  232730.0                      S+2               1        2  \n",
      "1646  Appartement  338939.0                      S+3               3        3  \n",
      "1647  Appartement  375162.0                      S+3               3        3  \n",
      "1648  Appartement  353387.0                      S+3               3        3  \n"
     ]
    }
   ],
   "source": [
    "# on s'interesse que sur les biens à vendre\n",
    "# execute right after reading the csv, marra wahda barka\n",
    "df = df[df['Type de transaction'] == 'À Vendre']\n",
    "df = df.drop(columns=['Type de transaction'])\n",
    "print(df.tail())"
   ]
  },
  {
   "cell_type": "code",
   "execution_count": 8,
   "metadata": {},
   "outputs": [
    {
     "data": {
      "text/html": [
       "<div>\n",
       "<style scoped>\n",
       "    .dataframe tbody tr th:only-of-type {\n",
       "        vertical-align: middle;\n",
       "    }\n",
       "\n",
       "    .dataframe tbody tr th {\n",
       "        vertical-align: top;\n",
       "    }\n",
       "\n",
       "    .dataframe thead th {\n",
       "        text-align: right;\n",
       "    }\n",
       "</style>\n",
       "<table border=\"1\" class=\"dataframe\">\n",
       "  <thead>\n",
       "    <tr style=\"text-align: right;\">\n",
       "      <th></th>\n",
       "      <th>Annonce</th>\n",
       "      <th>Localisation</th>\n",
       "      <th>Superficie</th>\n",
       "      <th>Type de bien</th>\n",
       "      <th>Prix</th>\n",
       "      <th>Salles de bains</th>\n",
       "      <th>Chambres</th>\n",
       "    </tr>\n",
       "  </thead>\n",
       "  <tbody>\n",
       "    <tr>\n",
       "      <th>1644</th>\n",
       "      <td>Appartement (C2-8) en S+2 au deuxième étage</td>\n",
       "      <td>Sfax</td>\n",
       "      <td>False</td>\n",
       "      <td>Appartement</td>\n",
       "      <td>286269.0</td>\n",
       "      <td>False</td>\n",
       "      <td>2</td>\n",
       "    </tr>\n",
       "    <tr>\n",
       "      <th>1645</th>\n",
       "      <td>Appartement (C2-9) en S+2 au deuxième étage</td>\n",
       "      <td>Sfax</td>\n",
       "      <td>125.8</td>\n",
       "      <td>Appartement</td>\n",
       "      <td>232730.0</td>\n",
       "      <td>1</td>\n",
       "      <td>2</td>\n",
       "    </tr>\n",
       "    <tr>\n",
       "      <th>1646</th>\n",
       "      <td>Appartement (A4-9) en S+3 au quatrième étage</td>\n",
       "      <td>Sfax</td>\n",
       "      <td>183.21</td>\n",
       "      <td>Appartement</td>\n",
       "      <td>338939.0</td>\n",
       "      <td>3</td>\n",
       "      <td>3</td>\n",
       "    </tr>\n",
       "    <tr>\n",
       "      <th>1647</th>\n",
       "      <td>Appartement (C2-3) en S+3 au deuxième étage</td>\n",
       "      <td>Sfax</td>\n",
       "      <td>202.79</td>\n",
       "      <td>Appartement</td>\n",
       "      <td>375162.0</td>\n",
       "      <td>3</td>\n",
       "      <td>3</td>\n",
       "    </tr>\n",
       "    <tr>\n",
       "      <th>1648</th>\n",
       "      <td>Appartement (C2-6) en S+3 au deuxième étage</td>\n",
       "      <td>Sfax</td>\n",
       "      <td>191.02</td>\n",
       "      <td>Appartement</td>\n",
       "      <td>353387.0</td>\n",
       "      <td>3</td>\n",
       "      <td>3</td>\n",
       "    </tr>\n",
       "  </tbody>\n",
       "</table>\n",
       "</div>"
      ],
      "text/plain": [
       "                                           Annonce Localisation Superficie  \\\n",
       "1644   Appartement (C2-8) en S+2 au deuxième étage         Sfax      False   \n",
       "1645   Appartement (C2-9) en S+2 au deuxième étage         Sfax      125.8   \n",
       "1646  Appartement (A4-9) en S+3 au quatrième étage         Sfax     183.21   \n",
       "1647   Appartement (C2-3) en S+3 au deuxième étage         Sfax     202.79   \n",
       "1648   Appartement (C2-6) en S+3 au deuxième étage         Sfax     191.02   \n",
       "\n",
       "     Type de bien      Prix Salles de bains Chambres  \n",
       "1644  Appartement  286269.0           False        2  \n",
       "1645  Appartement  232730.0               1        2  \n",
       "1646  Appartement  338939.0               3        3  \n",
       "1647  Appartement  375162.0               3        3  \n",
       "1648  Appartement  353387.0               3        3  "
      ]
     },
     "execution_count": 8,
     "metadata": {},
     "output_type": "execute_result"
    }
   ],
   "source": [
    "condition1 = df[(df['Configuration des pièces'].notna()) & (df['Chambres']=='False')]\n",
    "# print(condition1.shape)\n",
    "# 12 row où nb chambres n'est affiché que dans l'annonce\n",
    "\n",
    "# Extraire le nombre de pièces de 'Configuration des pièces' et l'attribuer à 'Chambres'\n",
    "for idx, row in condition1.iterrows():\n",
    "    config_pieces = row['Configuration des pièces']\n",
    "    match = re.search(r'S\\+(\\d+)', config_pieces)\n",
    "    if match:\n",
    "        df.at[idx, 'Chambres'] = int(match.group(1))\n",
    "\n",
    "df = df.drop(columns=['Configuration des pièces']) # on n'en a plus besoin\n",
    "df.tail()"
   ]
  },
  {
   "cell_type": "code",
   "execution_count": 6,
   "metadata": {},
   "outputs": [],
   "source": [
    "df = df.drop_duplicates()"
   ]
  },
  {
   "cell_type": "code",
   "execution_count": 9,
   "metadata": {},
   "outputs": [
    {
     "name": "stderr",
     "output_type": "stream",
     "text": [
      "C:\\Users\\My_Computing\\AppData\\Local\\Temp\\ipykernel_9472\\3509720669.py:2: FutureWarning: A value is trying to be set on a copy of a DataFrame or Series through chained assignment using an inplace method.\n",
      "The behavior will change in pandas 3.0. This inplace method will never work because the intermediate object on which we are setting values always behaves as a copy.\n",
      "\n",
      "For example, when doing 'df[col].method(value, inplace=True)', try using 'df.method({col: value}, inplace=True)' or df[col] = df[col].method(value) instead, to perform the operation inplace on the original object.\n",
      "\n",
      "\n",
      "  df['Salles de bains'].replace('False', 1, inplace=True)\n"
     ]
    },
    {
     "data": {
      "text/html": [
       "<div>\n",
       "<style scoped>\n",
       "    .dataframe tbody tr th:only-of-type {\n",
       "        vertical-align: middle;\n",
       "    }\n",
       "\n",
       "    .dataframe tbody tr th {\n",
       "        vertical-align: top;\n",
       "    }\n",
       "\n",
       "    .dataframe thead th {\n",
       "        text-align: right;\n",
       "    }\n",
       "</style>\n",
       "<table border=\"1\" class=\"dataframe\">\n",
       "  <thead>\n",
       "    <tr style=\"text-align: right;\">\n",
       "      <th></th>\n",
       "      <th>Annonce</th>\n",
       "      <th>Localisation</th>\n",
       "      <th>Superficie</th>\n",
       "      <th>Type de bien</th>\n",
       "      <th>Prix</th>\n",
       "      <th>Salles de bains</th>\n",
       "      <th>Chambres</th>\n",
       "    </tr>\n",
       "  </thead>\n",
       "  <tbody>\n",
       "    <tr>\n",
       "      <th>1644</th>\n",
       "      <td>Appartement (C2-8) en S+2 au deuxième étage</td>\n",
       "      <td>Sfax</td>\n",
       "      <td>False</td>\n",
       "      <td>Appartement</td>\n",
       "      <td>286269.0</td>\n",
       "      <td>1</td>\n",
       "      <td>2</td>\n",
       "    </tr>\n",
       "    <tr>\n",
       "      <th>1645</th>\n",
       "      <td>Appartement (C2-9) en S+2 au deuxième étage</td>\n",
       "      <td>Sfax</td>\n",
       "      <td>125.8</td>\n",
       "      <td>Appartement</td>\n",
       "      <td>232730.0</td>\n",
       "      <td>1</td>\n",
       "      <td>2</td>\n",
       "    </tr>\n",
       "    <tr>\n",
       "      <th>1646</th>\n",
       "      <td>Appartement (A4-9) en S+3 au quatrième étage</td>\n",
       "      <td>Sfax</td>\n",
       "      <td>183.21</td>\n",
       "      <td>Appartement</td>\n",
       "      <td>338939.0</td>\n",
       "      <td>3</td>\n",
       "      <td>3</td>\n",
       "    </tr>\n",
       "    <tr>\n",
       "      <th>1647</th>\n",
       "      <td>Appartement (C2-3) en S+3 au deuxième étage</td>\n",
       "      <td>Sfax</td>\n",
       "      <td>202.79</td>\n",
       "      <td>Appartement</td>\n",
       "      <td>375162.0</td>\n",
       "      <td>3</td>\n",
       "      <td>3</td>\n",
       "    </tr>\n",
       "    <tr>\n",
       "      <th>1648</th>\n",
       "      <td>Appartement (C2-6) en S+3 au deuxième étage</td>\n",
       "      <td>Sfax</td>\n",
       "      <td>191.02</td>\n",
       "      <td>Appartement</td>\n",
       "      <td>353387.0</td>\n",
       "      <td>3</td>\n",
       "      <td>3</td>\n",
       "    </tr>\n",
       "  </tbody>\n",
       "</table>\n",
       "</div>"
      ],
      "text/plain": [
       "                                           Annonce Localisation Superficie  \\\n",
       "1644   Appartement (C2-8) en S+2 au deuxième étage         Sfax      False   \n",
       "1645   Appartement (C2-9) en S+2 au deuxième étage         Sfax      125.8   \n",
       "1646  Appartement (A4-9) en S+3 au quatrième étage         Sfax     183.21   \n",
       "1647   Appartement (C2-3) en S+3 au deuxième étage         Sfax     202.79   \n",
       "1648   Appartement (C2-6) en S+3 au deuxième étage         Sfax     191.02   \n",
       "\n",
       "     Type de bien      Prix Salles de bains Chambres  \n",
       "1644  Appartement  286269.0               1        2  \n",
       "1645  Appartement  232730.0               1        2  \n",
       "1646  Appartement  338939.0               3        3  \n",
       "1647  Appartement  375162.0               3        3  \n",
       "1648  Appartement  353387.0               3        3  "
      ]
     },
     "execution_count": 9,
     "metadata": {},
     "output_type": "execute_result"
    }
   ],
   "source": [
    "# Remplacer toutes les valeurs 'False' dans la colonne \"Salles de bains\" par la valeur par défaut 1\n",
    "df['Salles de bains'].replace('False', 1, inplace=True)\n",
    "df.tail()"
   ]
  },
  {
   "cell_type": "code",
   "execution_count": 10,
   "metadata": {},
   "outputs": [],
   "source": [
    "df['Prix'] = pd.to_numeric(df['Prix'], errors='coerce') # convertir en numérique"
   ]
  },
  {
   "cell_type": "code",
   "execution_count": 11,
   "metadata": {},
   "outputs": [],
   "source": [
    "# imputer les vm en utilisant la médiane des biens similaires (pour éviter les outliers)\n",
    "# df['Prix'] = df.groupby(['Localisation', 'Chambres'])['Prix'].transform(lambda x: x.fillna(x.median())) "
   ]
  },
  {
   "cell_type": "code",
   "execution_count": null,
   "metadata": {},
   "outputs": [],
   "source": []
  }
 ],
 "metadata": {
  "kernelspec": {
   "display_name": "Python 3",
   "language": "python",
   "name": "python3"
  },
  "language_info": {
   "codemirror_mode": {
    "name": "ipython",
    "version": 3
   },
   "file_extension": ".py",
   "mimetype": "text/x-python",
   "name": "python",
   "nbconvert_exporter": "python",
   "pygments_lexer": "ipython3",
   "version": "3.12.6"
  }
 },
 "nbformat": 4,
 "nbformat_minor": 2
}
