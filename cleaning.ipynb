{
 "cells": [
  {
   "cell_type": "code",
   "execution_count": 1,
   "metadata": {},
   "outputs": [],
   "source": [
    "import pandas as pd\n",
    "import re\n",
    "import seaborn as sns\n",
    "import matplotlib.pyplot as plt\n",
    "import numpy as np"
   ]
  },
  {
   "cell_type": "code",
   "execution_count": 2,
   "metadata": {},
   "outputs": [],
   "source": [
    "df = pd.read_csv('immobiliers.csv')"
   ]
  },
  {
   "cell_type": "code",
   "execution_count": 8,
   "metadata": {},
   "outputs": [
    {
     "name": "stdout",
     "output_type": "stream",
     "text": [
      "<class 'pandas.core.frame.DataFrame'>\n",
      "RangeIndex: 755 entries, 0 to 754\n",
      "Data columns (total 8 columns):\n",
      " #   Column                    Non-Null Count  Dtype  \n",
      "---  ------                    --------------  -----  \n",
      " 0   Localisation              755 non-null    object \n",
      " 1   Configuration des pièces  350 non-null    object \n",
      " 2   Superficie                755 non-null    object \n",
      " 3   Chambres                  755 non-null    object \n",
      " 4   Type de bien              206 non-null    object \n",
      " 5   Annonce                   755 non-null    object \n",
      " 6   Prix                      622 non-null    float64\n",
      " 7   Salles de bains           755 non-null    object \n",
      "dtypes: float64(1), object(7)\n",
      "memory usage: 47.3+ KB\n",
      "None\n"
     ]
    }
   ],
   "source": [
    "# on ne s'interesse que sur les biens à vendre\n",
    "# execute right after reading the csv, marra wahda barka\n",
    "df = df[df['Type de transaction'] == 'À Vendre']\n",
    "df = df.drop(columns=['Type de transaction'])\n",
    "df.reset_index(drop=True, inplace=True)\n",
    "print(df.info())"
   ]
  },
  {
   "cell_type": "code",
   "execution_count": 9,
   "metadata": {},
   "outputs": [
    {
     "data": {
      "text/html": [
       "<div>\n",
       "<style scoped>\n",
       "    .dataframe tbody tr th:only-of-type {\n",
       "        vertical-align: middle;\n",
       "    }\n",
       "\n",
       "    .dataframe tbody tr th {\n",
       "        vertical-align: top;\n",
       "    }\n",
       "\n",
       "    .dataframe thead th {\n",
       "        text-align: right;\n",
       "    }\n",
       "</style>\n",
       "<table border=\"1\" class=\"dataframe\">\n",
       "  <thead>\n",
       "    <tr style=\"text-align: right;\">\n",
       "      <th></th>\n",
       "      <th>Localisation</th>\n",
       "      <th>Superficie</th>\n",
       "      <th>Chambres</th>\n",
       "      <th>Type de bien</th>\n",
       "      <th>Annonce</th>\n",
       "      <th>Prix</th>\n",
       "      <th>Salles de bains</th>\n",
       "    </tr>\n",
       "  </thead>\n",
       "  <tbody>\n",
       "    <tr>\n",
       "      <th>750</th>\n",
       "      <td>Sfax</td>\n",
       "      <td>False</td>\n",
       "      <td>2</td>\n",
       "      <td>Appartement</td>\n",
       "      <td>Appartement (C2-8) en S+2 au deuxième étage</td>\n",
       "      <td>286269.0</td>\n",
       "      <td>False</td>\n",
       "    </tr>\n",
       "    <tr>\n",
       "      <th>751</th>\n",
       "      <td>Sfax</td>\n",
       "      <td>125.8</td>\n",
       "      <td>2</td>\n",
       "      <td>Appartement</td>\n",
       "      <td>Appartement (C2-9) en S+2 au deuxième étage</td>\n",
       "      <td>232730.0</td>\n",
       "      <td>1</td>\n",
       "    </tr>\n",
       "    <tr>\n",
       "      <th>752</th>\n",
       "      <td>Sfax</td>\n",
       "      <td>183.21</td>\n",
       "      <td>3</td>\n",
       "      <td>Appartement</td>\n",
       "      <td>Appartement (A4-9) en S+3 au quatrième étage</td>\n",
       "      <td>338939.0</td>\n",
       "      <td>3</td>\n",
       "    </tr>\n",
       "    <tr>\n",
       "      <th>753</th>\n",
       "      <td>Sfax</td>\n",
       "      <td>202.79</td>\n",
       "      <td>3</td>\n",
       "      <td>Appartement</td>\n",
       "      <td>Appartement (C2-3) en S+3 au deuxième étage</td>\n",
       "      <td>375162.0</td>\n",
       "      <td>3</td>\n",
       "    </tr>\n",
       "    <tr>\n",
       "      <th>754</th>\n",
       "      <td>Sfax</td>\n",
       "      <td>191.02</td>\n",
       "      <td>3</td>\n",
       "      <td>Appartement</td>\n",
       "      <td>Appartement (C2-6) en S+3 au deuxième étage</td>\n",
       "      <td>353387.0</td>\n",
       "      <td>3</td>\n",
       "    </tr>\n",
       "  </tbody>\n",
       "</table>\n",
       "</div>"
      ],
      "text/plain": [
       "    Localisation Superficie Chambres Type de bien  \\\n",
       "750         Sfax      False        2  Appartement   \n",
       "751         Sfax      125.8        2  Appartement   \n",
       "752         Sfax     183.21        3  Appartement   \n",
       "753         Sfax     202.79        3  Appartement   \n",
       "754         Sfax     191.02        3  Appartement   \n",
       "\n",
       "                                          Annonce      Prix Salles de bains  \n",
       "750   Appartement (C2-8) en S+2 au deuxième étage  286269.0           False  \n",
       "751   Appartement (C2-9) en S+2 au deuxième étage  232730.0               1  \n",
       "752  Appartement (A4-9) en S+3 au quatrième étage  338939.0               3  \n",
       "753   Appartement (C2-3) en S+3 au deuxième étage  375162.0               3  \n",
       "754   Appartement (C2-6) en S+3 au deuxième étage  353387.0               3  "
      ]
     },
     "execution_count": 9,
     "metadata": {},
     "output_type": "execute_result"
    }
   ],
   "source": [
    "condition1 = df[(df['Configuration des pièces'].notna()) & (df['Chambres']=='False')]\n",
    "# print(condition1.shape)\n",
    "# 11 row où nb chambres n'est affiché que dans l'annonce\n",
    "\n",
    "# Extraire le nombre de pièces de 'Configuration des pièces' et l'attribuer à 'Chambres'\n",
    "for idx, row in condition1.iterrows():\n",
    "    config_pieces = row['Configuration des pièces']\n",
    "    match = re.search(r'S\\+(\\d+)', config_pieces)\n",
    "    if match:\n",
    "        df.at[idx, 'Chambres'] = int(match.group(1))\n",
    "\n",
    "df = df.drop(columns=['Configuration des pièces']) # on n'en a plus besoin\n",
    "df.tail()"
   ]
  },
  {
   "cell_type": "code",
   "execution_count": 10,
   "metadata": {},
   "outputs": [
    {
     "name": "stderr",
     "output_type": "stream",
     "text": [
      "C:\\Users\\My_Computing\\AppData\\Local\\Temp\\ipykernel_19332\\2422662689.py:6: FutureWarning: A value is trying to be set on a copy of a DataFrame or Series through chained assignment using an inplace method.\n",
      "The behavior will change in pandas 3.0. This inplace method will never work because the intermediate object on which we are setting values always behaves as a copy.\n",
      "\n",
      "For example, when doing 'df[col].method(value, inplace=True)', try using 'df.method({col: value}, inplace=True)' or df[col] = df[col].method(value) instead, to perform the operation inplace on the original object.\n",
      "\n",
      "\n",
      "  df['Salles de bains'].replace('False', 1, inplace=True)\n"
     ]
    }
   ],
   "source": [
    "# Remplacer toutes les valeurs 'False' dans les colonnes 'Superficie' et 'Chambres' par NaN\n",
    "df['Superficie'] = df['Superficie'].replace(['False'], np.nan)\n",
    "df['Chambres'] = df['Chambres'].replace(['False'], np.nan)\n",
    "\n",
    "# Remplacer toutes les valeurs 'False' dans la colonne \"Salles de bains\" par la valeur par défaut 1\n",
    "df['Salles de bains'].replace('False', 1, inplace=True)\n",
    "\n",
    "df['Prix'] = pd.to_numeric(df['Prix'], errors='coerce') # convertir en numérique"
   ]
  },
  {
   "cell_type": "code",
   "execution_count": 11,
   "metadata": {},
   "outputs": [
    {
     "data": {
      "text/html": [
       "<div>\n",
       "<style scoped>\n",
       "    .dataframe tbody tr th:only-of-type {\n",
       "        vertical-align: middle;\n",
       "    }\n",
       "\n",
       "    .dataframe tbody tr th {\n",
       "        vertical-align: top;\n",
       "    }\n",
       "\n",
       "    .dataframe thead th {\n",
       "        text-align: right;\n",
       "    }\n",
       "</style>\n",
       "<table border=\"1\" class=\"dataframe\">\n",
       "  <thead>\n",
       "    <tr style=\"text-align: right;\">\n",
       "      <th></th>\n",
       "      <th>Localisation</th>\n",
       "      <th>Superficie</th>\n",
       "      <th>Chambres</th>\n",
       "      <th>Type de bien</th>\n",
       "      <th>Annonce</th>\n",
       "      <th>Prix</th>\n",
       "      <th>Salles de bains</th>\n",
       "    </tr>\n",
       "  </thead>\n",
       "  <tbody>\n",
       "    <tr>\n",
       "      <th>750</th>\n",
       "      <td>Sfax</td>\n",
       "      <td>NaN</td>\n",
       "      <td>2</td>\n",
       "      <td>Appartement</td>\n",
       "      <td>Appartement (C2-8) en S+2 au deuxième étage</td>\n",
       "      <td>286269.0</td>\n",
       "      <td>1</td>\n",
       "    </tr>\n",
       "    <tr>\n",
       "      <th>751</th>\n",
       "      <td>Sfax</td>\n",
       "      <td>125.8</td>\n",
       "      <td>2</td>\n",
       "      <td>Appartement</td>\n",
       "      <td>Appartement (C2-9) en S+2 au deuxième étage</td>\n",
       "      <td>232730.0</td>\n",
       "      <td>1</td>\n",
       "    </tr>\n",
       "    <tr>\n",
       "      <th>752</th>\n",
       "      <td>Sfax</td>\n",
       "      <td>183.21</td>\n",
       "      <td>3</td>\n",
       "      <td>Appartement</td>\n",
       "      <td>Appartement (A4-9) en S+3 au quatrième étage</td>\n",
       "      <td>338939.0</td>\n",
       "      <td>3</td>\n",
       "    </tr>\n",
       "    <tr>\n",
       "      <th>753</th>\n",
       "      <td>Sfax</td>\n",
       "      <td>202.79</td>\n",
       "      <td>3</td>\n",
       "      <td>Appartement</td>\n",
       "      <td>Appartement (C2-3) en S+3 au deuxième étage</td>\n",
       "      <td>375162.0</td>\n",
       "      <td>3</td>\n",
       "    </tr>\n",
       "    <tr>\n",
       "      <th>754</th>\n",
       "      <td>Sfax</td>\n",
       "      <td>191.02</td>\n",
       "      <td>3</td>\n",
       "      <td>Appartement</td>\n",
       "      <td>Appartement (C2-6) en S+3 au deuxième étage</td>\n",
       "      <td>353387.0</td>\n",
       "      <td>3</td>\n",
       "    </tr>\n",
       "  </tbody>\n",
       "</table>\n",
       "</div>"
      ],
      "text/plain": [
       "    Localisation Superficie Chambres Type de bien  \\\n",
       "750         Sfax        NaN        2  Appartement   \n",
       "751         Sfax      125.8        2  Appartement   \n",
       "752         Sfax     183.21        3  Appartement   \n",
       "753         Sfax     202.79        3  Appartement   \n",
       "754         Sfax     191.02        3  Appartement   \n",
       "\n",
       "                                          Annonce      Prix Salles de bains  \n",
       "750   Appartement (C2-8) en S+2 au deuxième étage  286269.0               1  \n",
       "751   Appartement (C2-9) en S+2 au deuxième étage  232730.0               1  \n",
       "752  Appartement (A4-9) en S+3 au quatrième étage  338939.0               3  \n",
       "753   Appartement (C2-3) en S+3 au deuxième étage  375162.0               3  \n",
       "754   Appartement (C2-6) en S+3 au deuxième étage  353387.0               3  "
      ]
     },
     "execution_count": 11,
     "metadata": {},
     "output_type": "execute_result"
    }
   ],
   "source": [
    "df.tail()"
   ]
  },
  {
   "cell_type": "code",
   "execution_count": 12,
   "metadata": {},
   "outputs": [
    {
     "data": {
      "image/png": "[encoded data removed]",
      "text/plain": [
       "<Figure size 600x400 with 1 Axes>"
      ]
     },
     "metadata": {},
     "output_type": "display_data"
    }
   ],
   "source": [
    "plt.figure(figsize=(6, 4))\n",
    "sns.heatmap(df.isnull(), cbar=False, cmap='viridis')\n",
    "plt.title(\"Missing Values Heatmap\")\n",
    "plt.show()"
   ]
  },
  {
   "cell_type": "code",
   "execution_count": 13,
   "metadata": {},
   "outputs": [
    {
     "name": "stdout",
     "output_type": "stream",
     "text": [
      "Value counts for 'Type de bien':\n",
      " Type de bien\n",
      "Appartement         131\n",
      "Local Commercial     25\n",
      "Bureau               22\n",
      "Villa                15\n",
      "Duplexe              11\n",
      "Penthouse             2\n",
      "Name: count, dtype: int64\n",
      "Missing values in 'Type de bien' column:  549\n"
     ]
    }
   ],
   "source": [
    "# On s'interesse dans cette partie aux valeurs manquantes dans la colonne type de biens\n",
    "print(\"Value counts for 'Type de bien':\\n\", df['Type de bien'].value_counts())\n",
    "print(\"Missing values in 'Type de bien' column: \", df['Type de bien'].isnull().sum())"
   ]
  },
  {
   "cell_type": "code",
   "execution_count": 14,
   "metadata": {},
   "outputs": [],
   "source": [
    "keywords = {\n",
    "    'appartement': 'Appartement',\n",
    "    'villa': 'Villa',\n",
    "    'maison': 'Maison'\n",
    "}\n",
    "# chercher dans les annonces les keywords qui nous interessent\n",
    "for keyword, replacement in keywords.items():\n",
    "    condition = df['Annonce'].str.contains(keyword, case=False, na=False)\n",
    "    df.loc[condition & df['Type de bien'].isna(), 'Type de bien'] = replacement"
   ]
  },
  {
   "cell_type": "code",
   "execution_count": 15,
   "metadata": {},
   "outputs": [],
   "source": [
    "# suite aux observations, les données non labelisées correspondent à des appartements\n",
    "df.loc[df['Type de bien'].isna() & df['Chambres'].notna(), 'Type de bien'] = 'Appartement'"
   ]
  },
  {
   "cell_type": "code",
   "execution_count": 16,
   "metadata": {},
   "outputs": [
    {
     "name": "stdout",
     "output_type": "stream",
     "text": [
      "Value counts for 'Type de bien':\n",
      " Type de bien\n",
      "Appartement         517\n",
      "Villa               125\n",
      "Maison               34\n",
      "Local Commercial     25\n",
      "Bureau               22\n",
      "Duplexe              11\n",
      "Penthouse             2\n",
      "Name: count, dtype: int64\n",
      "Missing values in 'Type de bien' column:  19\n"
     ]
    }
   ],
   "source": [
    "# verification\n",
    "print(\"Value counts for 'Type de bien':\\n\", df['Type de bien'].value_counts())\n",
    "print(\"Missing values in 'Type de bien' column: \", df['Type de bien'].isnull().sum())"
   ]
  },
  {
   "cell_type": "code",
   "execution_count": 17,
   "metadata": {},
   "outputs": [],
   "source": [
    "# Apres la visualtion des nvlles données, on a remarqué que les données \n",
    "# manquantes restantes dans la colonne 'Type de bien' sont des\n",
    "# biens commerciaux dont on n'aura pas besoin reellement\n",
    "\n",
    "# Garder uniquement les lignes où 'Type de bien' est 'appartement', 'maison', ou 'villa'\n",
    "df = df[df['Type de bien'].isin(['Appartement', 'Maison', 'Villa'])]\n",
    "\n",
    "df = df.drop(columns=['Annonce']) # on n'en a plus besoin"
   ]
  },
  {
   "cell_type": "code",
   "execution_count": 18,
   "metadata": {},
   "outputs": [],
   "source": [
    "# pour chaque groupe de Prix, nous allons remplir les valeurs manquantes par la médiane de ce groupe (pour éviter les outliers)\n",
    "df.loc[:, 'Prix'] = df.groupby(['Localisation', 'Chambres'])['Prix'].transform(\n",
    "    lambda x: x.fillna(x.median()) if x.notna().any() else x\n",
    ")"
   ]
  },
  {
   "cell_type": "code",
   "execution_count": 19,
   "metadata": {},
   "outputs": [
    {
     "data": {
      "image/png": "[encoded data removed]",
      "text/plain": [
       "<Figure size 600x400 with 1 Axes>"
      ]
     },
     "metadata": {},
     "output_type": "display_data"
    }
   ],
   "source": [
    "plt.figure(figsize=(6, 4))\n",
    "sns.heatmap(df.isnull(), cbar=False, cmap='viridis')\n",
    "plt.title(\"Missing Values Heatmap\")\n",
    "plt.show()"
   ]
  },
  {
   "cell_type": "code",
   "execution_count": 20,
   "metadata": {},
   "outputs": [],
   "source": [
    "df.to_csv('cleaned_immobiliers.csv', index=False, encoding='utf-8')"
   ]
  }
 ],
 "metadata": {
  "kernelspec": {
   "display_name": "Python 3",
   "language": "python",
   "name": "python3"
  },
  "language_info": {
   "codemirror_mode": {
    "name": "ipython",
    "version": 3
   },
   "file_extension": ".py",
   "mimetype": "text/x-python",
   "name": "python",
   "nbconvert_exporter": "python",
   "pygments_lexer": "ipython3",
   "version": "3.12.6"
  }
 },
 "nbformat": 4,
 "nbformat_minor": 2
}
