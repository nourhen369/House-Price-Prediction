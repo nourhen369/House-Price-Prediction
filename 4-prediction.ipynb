{
 "cells": [
  {
   "cell_type": "code",
   "execution_count": 13,
   "metadata": {},
   "outputs": [],
   "source": [
    "import pandas as pd\n",
    "from sklearn.model_selection import train_test_split\n",
    "from sklearn.ensemble import RandomForestRegressor\n",
    "from sklearn.metrics import mean_absolute_error, mean_squared_error, r2_score\n",
    "import statsmodels.api as sm\n",
    "import numpy as np\n",
    "from sklearn.preprocessing import PolynomialFeatures, StandardScaler\n",
    "from sklearn.linear_model import LinearRegression"
   ]
  },
  {
   "cell_type": "code",
   "execution_count": 2,
   "metadata": {},
   "outputs": [
    {
     "name": "stdout",
     "output_type": "stream",
     "text": [
      "Index(['Superficie', 'Salles de bains', 'Chambres', 'Prix',\n",
      "       'Type de bien_Appartement', 'Type de bien_Maison', 'Type de bien_Villa',\n",
      "       'Localisation_Ariana', 'Localisation_Ben_Arous', 'Localisation_Bizerte',\n",
      "       'Localisation_Bja', 'Localisation_Gabs', 'Localisation_Gafsa',\n",
      "       'Localisation_Jendouba', 'Localisation_Kairouan',\n",
      "       'Localisation_Kasserine', 'Localisation_La_Manouba',\n",
      "       'Localisation_Le_Kef', 'Localisation_Mahdia', 'Localisation_Mdenine',\n",
      "       'Localisation_Monastir', 'Localisation_Nabeul', 'Localisation_Sfax',\n",
      "       'Localisation_Sidi_Bouzid', 'Localisation_Siliana',\n",
      "       'Localisation_Sousse', 'Localisation_Tozeur', 'Localisation_Tunis',\n",
      "       'Localisation_Zaghouan'],\n",
      "      dtype='object')\n"
     ]
    }
   ],
   "source": [
    "df_encoded = pd.read_csv('data/final_encoded_data.csv')\n",
    "\n",
    "print(df_encoded.columns)"
   ]
  },
  {
   "cell_type": "markdown",
   "metadata": {},
   "source": [
    "Testing a RandomForestRegressor"
   ]
  },
  {
   "cell_type": "code",
   "execution_count": 10,
   "metadata": {},
   "outputs": [
    {
     "name": "stdout",
     "output_type": "stream",
     "text": [
      "Mean Absolute Error (MAE): 145321.93\n",
      "Mean Squared Error (MSE): 38403206857.67\n"
     ]
    }
   ],
   "source": [
    "X = df_encoded.drop(columns=['Prix'])  # Features\n",
    "y = df_encoded['Prix']  # Target\n",
    "\n",
    "X_train, X_test, y_train, y_test = train_test_split(X, y, test_size=0.2, random_state=42)\n",
    "\n",
    "rf_model = RandomForestRegressor(n_estimators=100, random_state=42)\n",
    "rf_model.fit(X_train, y_train)\n",
    "y_pred = rf_model.predict(X_test)\n",
    "\n",
    "# Evaluate the performance\n",
    "mae = mean_absolute_error(y_test, y_pred)\n",
    "mse = mean_squared_error(y_test, y_pred)\n",
    "r2 = r2_score(y_test, y_pred)\n",
    "\n",
    "# Print evaluation metrics\n",
    "print(f\"Mean Absolute Error (MAE): {mae:.2f}\")\n",
    "print(f\"Mean Squared Error (MSE): {mse:.2f}\")"
   ]
  },
  {
   "cell_type": "code",
   "execution_count": 11,
   "metadata": {},
   "outputs": [
    {
     "name": "stdout",
     "output_type": "stream",
     "text": [
      "Predicted price: 431753.60 TND\n"
     ]
    }
   ],
   "source": [
    "new_data = {\n",
    "    'Superficie': [150],  # 150 square meters\n",
    "    'Salles de bains': [2],  # 2 bathrooms\n",
    "    'Chambres': [3],  # 3 bedrooms\n",
    "    'Type de bien_Appartement': [1],  # Appartement\n",
    "    'Type de bien_Maison': [0], \n",
    "    'Type de bien_Villa': [0], \n",
    "    'Localisation_Ariana': [0],\n",
    "    'Localisation_Ben_Arous': [0],\n",
    "    'Localisation_Bizerte': [0],\n",
    "    'Localisation_Bja': [0],\n",
    "    'Localisation_Gabs': [0],\n",
    "    'Localisation_Gafsa': [0],\n",
    "    'Localisation_Jendouba': [0],\n",
    "    'Localisation_Kairouan': [0],\n",
    "    'Localisation_Kasserine': [0],\n",
    "    'Localisation_La_Manouba': [0],\n",
    "    'Localisation_Le_Kef': [0],\n",
    "    'Localisation_Mahdia': [0],\n",
    "    'Localisation_Mdenine': [0],\n",
    "    'Localisation_Monastir': [0],\n",
    "    'Localisation_Nabeul': [0],\n",
    "    'Localisation_Sfax': [0],\n",
    "    'Localisation_Sidi_Bouzid': [0],\n",
    "    'Localisation_Siliana': [0],\n",
    "    'Localisation_Sousse': [0],\n",
    "    'Localisation_Tozeur': [0],\n",
    "    'Localisation_Tunis': [1],  # in Tunis\n",
    "    'Localisation_Zaghouan': [0],\n",
    "}\n",
    "\n",
    "predicted = rf_model.predict(pd.DataFrame(new_data))\n",
    "print(f\"Predicted price: {predicted[0]:.2f} TND\")"
   ]
  },
  {
   "cell_type": "markdown",
   "metadata": {},
   "source": [
    "Testing a multivariate linear regression model"
   ]
  },
  {
   "cell_type": "code",
   "execution_count": 5,
   "metadata": {},
   "outputs": [
    {
     "name": "stdout",
     "output_type": "stream",
     "text": [
      "                            OLS Regression Results                            \n",
      "==============================================================================\n",
      "Dep. Variable:                   Prix   R-squared:                       0.539\n",
      "Model:                            OLS   Adj. R-squared:                  0.532\n",
      "Method:                 Least Squares   F-statistic:                     73.65\n",
      "Date:                Wed, 25 Dec 2024   Prob (F-statistic):          6.35e-253\n",
      "Time:                        13:10:10   Log-Likelihood:                -22514.\n",
      "No. Observations:                1663   AIC:                         4.508e+04\n",
      "Df Residuals:                    1636   BIC:                         4.523e+04\n",
      "Df Model:                          26                                         \n",
      "Covariance Type:            nonrobust                                         \n",
      "============================================================================================\n",
      "                               coef    std err          t      P>|t|      [0.025      0.975]\n",
      "--------------------------------------------------------------------------------------------\n",
      "const                     1.276e+05   1.53e+04      8.337      0.000    9.75e+04    1.58e+05\n",
      "Superficie                 277.0918     22.855     12.124      0.000     232.264     321.919\n",
      "Salles de bains           4.342e+04   5318.686      8.164      0.000     3.3e+04    5.39e+04\n",
      "Chambres                  1.465e+04   3252.345      4.506      0.000    8274.345     2.1e+04\n",
      "Type de bien_Appartement  1.625e+04   1.13e+04      1.434      0.152   -5973.566    3.85e+04\n",
      "Type de bien_Maison      -6.122e+04   8778.215     -6.975      0.000   -7.84e+04    -4.4e+04\n",
      "Type de bien_Villa        1.725e+05   9827.752     17.555      0.000    1.53e+05    1.92e+05\n",
      "Localisation_Ariana       9.234e+04   1.99e+04      4.640      0.000    5.33e+04    1.31e+05\n",
      "Localisation_Ben_Arous    3.145e+04   1.93e+04      1.633      0.103   -6331.797    6.92e+04\n",
      "Localisation_Bizerte     -8188.7637   2.81e+04     -0.291      0.771   -6.33e+04    4.69e+04\n",
      "Localisation_Bja          -1.22e+05   8.09e+04     -1.507      0.132   -2.81e+05    3.68e+04\n",
      "Localisation_Gabs        -1.324e+05   5.57e+04     -2.377      0.018   -2.42e+05   -2.31e+04\n",
      "Localisation_Gafsa       -1.378e+05   8.07e+04     -1.707      0.088   -2.96e+05    2.06e+04\n",
      "Localisation_Jendouba    -1.325e+04   6.47e+04     -0.205      0.838    -1.4e+05    1.14e+05\n",
      "Localisation_Kairouan    -1662.6989   5.17e+04     -0.032      0.974   -1.03e+05    9.96e+04\n",
      "Localisation_Kasserine    6.396e+04   1.78e+05      0.360      0.719   -2.84e+05    4.12e+05\n",
      "Localisation_La_Manouba  -1.701e+04   2.79e+04     -0.609      0.543   -7.18e+04    3.78e+04\n",
      "Localisation_Le_Kef        -1.4e+05   4.84e+04     -2.891      0.004   -2.35e+05    -4.5e+04\n",
      "Localisation_Mahdia       2.401e+04   6.46e+04      0.372      0.710   -1.03e+05    1.51e+05\n",
      "Localisation_Mdenine     -3.877e+04   3.68e+04     -1.053      0.293   -1.11e+05    3.35e+04\n",
      "Localisation_Monastir    -1.939e+05   4.11e+04     -4.718      0.000   -2.75e+05   -1.13e+05\n",
      "Localisation_Nabeul       1.217e+05   1.99e+04      6.113      0.000    8.26e+04    1.61e+05\n",
      "Localisation_Sfax        -2.105e+04   2.58e+04     -0.817      0.414   -7.16e+04    2.95e+04\n",
      "Localisation_Sidi_Bouzid -4.462e+04   1.03e+05     -0.432      0.666   -2.47e+05    1.58e+05\n",
      "Localisation_Siliana      1.335e+05   1.26e+05      1.059      0.290   -1.14e+05    3.81e+05\n",
      "Localisation_Sousse       1.323e+05   2.17e+04      6.091      0.000    8.97e+04    1.75e+05\n",
      "Localisation_Tozeur       3.665e+05   1.78e+05      2.061      0.039    1.78e+04    7.15e+05\n",
      "Localisation_Tunis        9.422e+04   1.92e+04      4.917      0.000    5.66e+04    1.32e+05\n",
      "Localisation_Zaghouan    -6.176e+04   6.47e+04     -0.955      0.340   -1.89e+05    6.51e+04\n",
      "==============================================================================\n",
      "Omnibus:                      128.733   Durbin-Watson:                   1.823\n",
      "Prob(Omnibus):                  0.000   Jarque-Bera (JB):              240.427\n",
      "Skew:                           0.532   Prob(JB):                     6.19e-53\n",
      "Kurtosis:                       4.529   Cond. No.                     2.68e+16\n",
      "==============================================================================\n",
      "\n",
      "Notes:\n",
      "[1] Standard Errors assume that the covariance matrix of the errors is correctly specified.\n",
      "[2] The smallest eigenvalue is 4.36e-25. This might indicate that there are\n",
      "strong multicollinearity problems or that the design matrix is singular.\n"
     ]
    }
   ],
   "source": [
    "# Working with the same features/target as above\n",
    "X = sm.add_constant(X)  \n",
    "model = sm.OLS(y, X).fit()\n",
    "print(model.summary())"
   ]
  },
  {
   "cell_type": "code",
   "execution_count": null,
   "metadata": {},
   "outputs": [
    {
     "name": "stdout",
     "output_type": "stream",
     "text": [
      "Predicted price: 410423.77\n"
     ]
    }
   ],
   "source": [
    "def predict_prix(superficie, salles_de_bains, chambres, type_de_bien, localisation):\n",
    "    # Coefficients from the OLS regression\n",
    "    const = 1.276e+05\n",
    "    coef_superficie = 277.0918\n",
    "    coef_salles_de_bains = 4.342e+04\n",
    "    coef_chambres = 1.465e+04\n",
    "    \n",
    "    # Coefficients for 'Type de bien'\n",
    "    coef_type_appartement = 1.625e+04\n",
    "    coef_type_maison = -6.122e+04\n",
    "    coef_type_villa = 1.725e+05\n",
    "    \n",
    "    # Coefficients for 'Localisation'\n",
    "    localisation_coefficients = {\n",
    "        'Ariana': 9.234e+04,\n",
    "        'Ben_Arous': 3.145e+04,\n",
    "        'Bizerte': -8188.7637,\n",
    "        'Bja': -1.22e+05,\n",
    "        'Gabs': -1.324e+05,\n",
    "        'Gafsa': -1.378e+05,\n",
    "        'Jendouba': -1.325e+04,\n",
    "        'Kairouan': -1662.6989,\n",
    "        'Kasserine': 6.396e+04,\n",
    "        'La_Manouba': -1.701e+04,\n",
    "        'Le_Kef': -1.4e+05,\n",
    "        'Mahdia': 2.401e+04,\n",
    "        'Mdenine': -3.877e+04,\n",
    "        'Monastir': -1.939e+05,\n",
    "        'Nabeul': 1.217e+05,\n",
    "        'Sfax': -2.105e+04,\n",
    "        'Sidi_Bouzid': -4.462e+04,\n",
    "        'Siliana': 1.335e+05,\n",
    "        'Sousse': 1.323e+05,\n",
    "        'Tozeur': 3.665e+05,\n",
    "        'Tunis': 9.422e+04,\n",
    "        'Zaghouan': -6.176e+04\n",
    "    }\n",
    "\n",
    "    # Calculate base price from numerical features\n",
    "    price = (const + \n",
    "             coef_superficie * superficie + \n",
    "             coef_salles_de_bains * salles_de_bains + \n",
    "             coef_chambres * chambres)\n",
    "\n",
    "    # Add the effect of 'Type de bien'\n",
    "    if type_de_bien == 'Appartement':\n",
    "        price += coef_type_appartement\n",
    "    elif type_de_bien == 'Maison':\n",
    "        price += coef_type_maison\n",
    "    elif type_de_bien == 'Villa':\n",
    "        price += coef_type_villa\n",
    "\n",
    "    # Add the effect of 'Localisation'\n",
    "    if localisation in localisation_coefficients:\n",
    "        price += localisation_coefficients[localisation]\n",
    "    \n",
    "    return price\n",
    "\n",
    "# Example usage: predict the price for a property\n",
    "predicted_price = predict_prix(superficie=150, salles_de_bains=2, chambres=3, type_de_bien='Appartement', localisation='Tunis')\n",
    "print(f\"Predicted price: {predicted_price}\")\n"
   ]
  },
  {
   "cell_type": "code",
   "execution_count": 14,
   "metadata": {},
   "outputs": [
    {
     "name": "stdout",
     "output_type": "stream",
     "text": [
      "Training RMSE: 144733.05206039408\n",
      "Test RMSE: 8.908083359419872e+19\n",
      "R-squared (Training): 0.707507424913705\n",
      "R-squared (Test): -1.0122792943404074e+29\n"
     ]
    }
   ],
   "source": [
    "# Try degree=2 or higher for more complexity\n",
    "poly = PolynomialFeatures(degree=4, include_bias=False)\n",
    "X_train_poly = poly.fit_transform(X_train)\n",
    "X_test_poly = poly.transform(X_test)\n",
    "\n",
    "scaler = StandardScaler()\n",
    "X_train_poly_scaled = scaler.fit_transform(X_train_poly)\n",
    "X_test_poly_scaled = scaler.transform(X_test_poly)\n",
    "\n",
    "model = LinearRegression()\n",
    "model.fit(X_train_poly_scaled, y_train)\n",
    "\n",
    "y_train_pred = model.predict(X_train_poly_scaled)\n",
    "y_test_pred = model.predict(X_test_poly_scaled)\n",
    "\n",
    "print(\"Training RMSE:\", np.sqrt(mean_squared_error(y_train, y_train_pred)))\n",
    "print(\"Test RMSE:\", np.sqrt(mean_squared_error(y_test, y_test_pred)))\n",
    "print(\"R-squared (Training):\", r2_score(y_train, y_train_pred))\n",
    "print(\"R-squared (Test):\", r2_score(y_test, y_test_pred))"
   ]
  }
 ],
 "metadata": {
  "kernelspec": {
   "display_name": "Python 3",
   "language": "python",
   "name": "python3"
  },
  "language_info": {
   "codemirror_mode": {
    "name": "ipython",
    "version": 3
   },
   "file_extension": ".py",
   "mimetype": "text/x-python",
   "name": "python",
   "nbconvert_exporter": "python",
   "pygments_lexer": "ipython3",
   "version": "3.12.6"
  }
 },
 "nbformat": 4,
 "nbformat_minor": 2
}
