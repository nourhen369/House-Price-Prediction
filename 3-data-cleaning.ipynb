{
 "cells": [
  {
   "cell_type": "code",
   "execution_count": 1,
   "metadata": {},
   "outputs": [],
   "source": [
    "import pandas as pd\n",
    "from sklearn.impute import KNNImputer\n",
    "import numpy as np\n",
    "from sklearn.linear_model import LinearRegression"
   ]
  },
  {
   "cell_type": "code",
   "execution_count": 2,
   "metadata": {},
   "outputs": [
    {
     "name": "stdout",
     "output_type": "stream",
     "text": [
      "Missing values per column:\n",
      "Région                     0\n",
      "Localisation            2070\n",
      "Type de bien            1319\n",
      "Nature                    31\n",
      "Superficie               335\n",
      "Salles de bains          315\n",
      "Chambres                 221\n",
      "Prix                      15\n",
      "Date_De_Modification    2240\n",
      "Annonce                    0\n",
      "dtype: int64\n"
     ]
    }
   ],
   "source": [
    "df = pd.read_csv('data/final_scrapped_immobiliers.csv')\n",
    "\n",
    "# Les biens trop chers sont evidemment à vendre\n",
    "df.loc[(df['Nature'].isnull()) & (df['Prix'] > 100000), 'Nature'] = 'À Vendre'\n",
    "\n",
    "# Check for missing values\n",
    "print(\"Missing values per column:\")\n",
    "print(df.isnull().sum())"
   ]
  },
  {
   "cell_type": "markdown",
   "metadata": {},
   "source": [
    "Handling missing values in 'Type de bien'"
   ]
  },
  {
   "cell_type": "code",
   "execution_count": 3,
   "metadata": {},
   "outputs": [
    {
     "name": "stdout",
     "output_type": "stream",
     "text": [
      "Missing values in 'Type de bien' after: 0\n"
     ]
    }
   ],
   "source": [
    "# Convert 'Chambres' to numeric\n",
    "df['Chambres'] = pd.to_numeric(df['Chambres'], errors='coerce')\n",
    "\n",
    "# Fill missing values in 'Type de bien'\n",
    "df.loc[(df['Type de bien'].isnull()) & \n",
    "       (df['Chambres'].between(1, 4)) & \n",
    "       (df['Salles de bains'].between(1, 2)), 'Type de bien'] = 'Appartement'\n",
    "\n",
    "df.loc[(df['Type de bien'].isnull()) & \n",
    "    (df['Chambres'] > 4) & \n",
    "    (df['Salles de bains'] >= 2), 'Type de bien'] = 'Villa'\n",
    "\n",
    "# Drop the rows that has no 'Type de bien' value\n",
    "df = df.dropna(subset=['Type de bien'])\n",
    "\n",
    "# Check missing values after the update\n",
    "print(\"Missing values in 'Type de bien' after:\", df['Type de bien'].isnull().sum())"
   ]
  },
  {
   "cell_type": "markdown",
   "metadata": {},
   "source": [
    "Handling missing values in 'Prix' with a linear regression model"
   ]
  },
  {
   "cell_type": "code",
   "execution_count": 5,
   "metadata": {},
   "outputs": [],
   "source": [
    "# Fill rows where 'Prix' is not NaN or 0\n",
    "X = df.loc[(df['Prix'].notnull()) & (df['Prix'] != 0), ['Superficie', 'Chambres', 'Salles de bains', 'Type de bien', 'Localisation']]\n",
    "X = pd.get_dummies(X, columns=['Type de bien', 'Localisation'], drop_first=True)\n",
    "y = df.loc[(df['Prix'].notnull()) & (df['Prix'] != 0), 'Prix']\n",
    "\n",
    "regressor = LinearRegression()\n",
    "regressor.fit(X, y)\n",
    "\n",
    "X_missing_prix = df.loc[df['Prix'].isnull() | (df['Prix'] == 0), ['Superficie', 'Chambres', 'Salles de bains', 'Type de bien', 'Localisation']]\n",
    "X_missing_prix = pd.get_dummies(X_missing_prix, columns=['Type de bien', 'Localisation'], drop_first=True)\n",
    "X_missing_prix = X_missing_prix.reindex(columns=X.columns, fill_value=0)\n",
    "X_missing_prix.fillna({\n",
    "    'Superficie': df['Superficie'].median(), \n",
    "    'Chambres': df['Chambres'].median(), \n",
    "    'Salles de bains': df['Salles de bains'].mode().iloc[0]\n",
    "}, inplace=True)\n",
    "\n",
    "predicted_prix = regressor.predict(X_missing_prix)\n",
    "df.loc[df['Prix'].isnull() | (df['Prix'] == 0), 'Prix'] = predicted_prix\n",
    "# Remove ouliers based on visualizations\n",
    "df['Prix'] = df['Prix'].clip(upper=df['Prix'].quantile(0.99))\n",
    "\n",
    "df.drop(columns=['Annonce'], inplace=True)\n",
    "df.drop_duplicates(inplace=True)\n",
    "df.reset_index(drop=True, inplace=True)"
   ]
  },
  {
   "cell_type": "code",
   "execution_count": 6,
   "metadata": {},
   "outputs": [],
   "source": [
    "df['Prix'] = df['Prix'].clip(upper=df['Prix'].quantile(0.99))"
   ]
  },
  {
   "cell_type": "code",
   "execution_count": 4,
   "metadata": {},
   "outputs": [
    {
     "name": "stdout",
     "output_type": "stream",
     "text": [
      "Missing values after cleaning:\n",
      "Superficie         0\n",
      "Chambres           0\n",
      "Salles de bains    0\n",
      "Type de bien       0\n",
      "Localisation       0\n",
      "dtype: int64\n"
     ]
    }
   ],
   "source": [
    "# Drop 'Date_De_Modification'\n",
    "df.drop(columns=['Date_De_Modification'], inplace=True, errors='ignore')\n",
    "\n",
    "# Handle Missing Values for 'Localisation' using KNN\n",
    "df['Localisation_num'] = df['Localisation'].astype('category').cat.codes\n",
    "localisation_imputer = KNNImputer(n_neighbors=5)\n",
    "df['Localisation_num'] = localisation_imputer.fit_transform(df[['Localisation_num']])\n",
    "\n",
    "localisation_mapping = dict(enumerate(df['Localisation'].astype('category').cat.categories))\n",
    "df['Localisation'] = df['Localisation_num'].round().astype(int).map(localisation_mapping)\n",
    "df.drop(columns=['Localisation_num'], inplace=True)\n",
    "\n",
    "# Handle Missing Values for 'Superficie' by filling based on 'Type de bien'\n",
    "df['Superficie'] = df.groupby('Type de bien')['Superficie'].transform(lambda x: x.fillna(x.median()))\n",
    "\n",
    "# Handle Missing Values for 'Chambres' and make them integer\n",
    "df['Chambres'] = pd.to_numeric(df['Chambres'], errors='coerce')  # Ensure numeric values\n",
    "knn_imputer = KNNImputer(n_neighbors=5)\n",
    "df[['Chambres']] = knn_imputer.fit_transform(df[['Chambres']])\n",
    "df['Chambres'] = df['Chambres'].round()\n",
    "df['Chambres'] = df['Chambres'].replace(0, np.nan)\n",
    "df['Chambres'] = df.groupby('Type de bien')['Chambres'].transform(lambda x: x.fillna(x.median()))\n",
    "\n",
    "df['Salles de bains'] = df.groupby(['Type de bien', 'Localisation'])['Salles de bains'].transform(\n",
    "    lambda x: x.fillna(x.mode().iloc[0]) if not x.mode().empty else x.fillna(1)\n",
    ")\n",
    "df['Salles de bains'] = df['Salles de bains'].round()\n",
    "df['Salles de bains'] = df['Salles de bains'].replace(0, np.nan)\n",
    "df['Salles de bains'] = df.groupby('Type de bien')['Salles de bains'].transform(lambda x: x.fillna(x.median()))\n",
    "\n",
    "df.dropna(subset=['Type de bien', 'Localisation'], inplace=True)\n",
    "\n",
    "# Filter 'Prix' to handle unrealistic values\n",
    "df.loc[(df['Prix'] < 50000) | (df['Prix'] > 1300000), 'Prix'] = 0\n",
    "\n",
    "print(\"Missing values after cleaning:\")\n",
    "print(df[['Superficie', 'Chambres', 'Salles de bains', 'Type de bien', 'Localisation']].isnull().sum())\n"
   ]
  },
  {
   "cell_type": "code",
   "execution_count": 13,
   "metadata": {},
   "outputs": [
    {
     "name": "stdout",
     "output_type": "stream",
     "text": [
      "Superficie Quantiles:\n",
      "0.022      70.00\n",
      "0.530     350.00\n",
      "0.980    1480.28\n",
      "Name: Superficie, dtype: float64\n",
      "Chambres Quantiles:\n",
      "0.0013     1.0\n",
      "0.5000     4.0\n",
      "0.9800    10.0\n",
      "Name: Chambres, dtype: float64\n",
      "Salles de bains Quantiles:\n",
      "0.0013    1.0\n",
      "0.5000    2.0\n",
      "0.9800    6.0\n",
      "Name: Salles de bains, dtype: float64\n"
     ]
    }
   ],
   "source": [
    "# Quantile values for Superficie\n",
    "superficie_quantiles = df['Superficie'].quantile([0.022, 0.53, 0.98])\n",
    "print(\"Superficie Quantiles:\")\n",
    "print(superficie_quantiles)\n",
    "\n",
    "# Quantile values for Nb_Chambres\n",
    "nb_chambres_quantiles = df['Chambres'].quantile([0.0013, 0.5, 0.98])\n",
    "print(\"Chambres Quantiles:\")\n",
    "print(nb_chambres_quantiles)\n",
    "\n",
    "# Quantile values for Nb_Salles De bain\n",
    "nb_salles_de_bain_quantiles = df['Salles de bains'].quantile([0.0013, 0.5, 0.98])\n",
    "print(\"Salles de bains Quantiles:\")\n",
    "print(nb_salles_de_bain_quantiles)"
   ]
  },
  {
   "cell_type": "code",
   "execution_count": 17,
   "metadata": {},
   "outputs": [],
   "source": [
    "df = df[\n",
    "    (df['Superficie'] >= superficie_quantiles[0.022]) & \n",
    "    (df['Superficie'] <= superficie_quantiles[0.98]) & \n",
    "    (df['Chambres'] >= nb_chambres_quantiles[0.0013]) & \n",
    "    (df['Chambres'] <= nb_chambres_quantiles[0.98]) & \n",
    "    (df['Salles de bains'] >= nb_salles_de_bain_quantiles[0.0013]) & \n",
    "    (df['Salles de bains'] <= nb_salles_de_bain_quantiles[0.98])\n",
    "]"
   ]
  },
  {
   "cell_type": "code",
   "execution_count": 18,
   "metadata": {},
   "outputs": [],
   "source": [
    "df.to_csv('data/final_data.csv', index=False)"
   ]
  },
  {
   "cell_type": "code",
   "execution_count": null,
   "metadata": {},
   "outputs": [],
   "source": []
  }
 ],
 "metadata": {
  "kernelspec": {
   "display_name": "Python 3",
   "language": "python",
   "name": "python3"
  },
  "language_info": {
   "codemirror_mode": {
    "name": "ipython",
    "version": 3
   },
   "file_extension": ".py",
   "mimetype": "text/x-python",
   "name": "python",
   "nbconvert_exporter": "python",
   "pygments_lexer": "ipython3",
   "version": "3.12.6"
  }
 },
 "nbformat": 4,
 "nbformat_minor": 2
}
